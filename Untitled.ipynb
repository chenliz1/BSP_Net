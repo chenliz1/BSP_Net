{
 "cells": [
  {
   "cell_type": "code",
   "execution_count": 1,
   "metadata": {},
   "outputs": [],
   "source": [
    "from __future__ import absolute_import, division, print_function, unicode_literals\n",
    "import os\n",
    "import h5py\n",
    "import numpy as np  \n",
    "import tensorflow as tf\n",
    "from tensorflow import keras\n",
    "import matplotlib.pyplot as plt\n",
    "from bspnet2D import BspNet2D\n",
    "from loss_func import stage1_loss, rec_loss, stage2_loss\n",
    "from decoder2D import decoder2DStage2\n",
    "batchsize = 32\n",
    "epoch = 200"
   ]
  },
  {
   "cell_type": "code",
   "execution_count": 2,
   "metadata": {},
   "outputs": [
    {
     "name": "stdout",
     "output_type": "stream",
     "text": [
      "Keys: <KeysViewHDF5 ['pixels']>\n",
      "Keys: <KeysViewHDF5 ['pixels']>\n"
     ]
    }
   ],
   "source": [
    "with h5py.File('complex_elements.hdf5', 'r') as f:\n",
    "    # List all groups\n",
    "    print(\"Keys: %s\" % f.keys())\n",
    "    a_group_key = list(f.keys())[0]\n",
    "\n",
    "    # Get the data\n",
    "    data = list(f[a_group_key])\n",
    "    \n",
    "    \n",
    "with h5py.File('complex_elements_test.hdf5', 'r') as f:\n",
    "    # List all groups\n",
    "    print(\"Keys: %s\" % f.keys())\n",
    "    a_group_key = list(f.keys())[0]\n",
    "\n",
    "    # Get the data\n",
    "    test_data = list(f[a_group_key])\n",
    "    "
   ]
  },
  {
   "cell_type": "code",
   "execution_count": 3,
   "metadata": {},
   "outputs": [
    {
     "name": "stdout",
     "output_type": "stream",
     "text": [
      "Training Dataset Length: 2000\n",
      "Testing Dataset Length: 500\n"
     ]
    }
   ],
   "source": [
    "print(\"Training Dataset Length: %d\" % len(data))\n",
    "print(\"Testing Dataset Length: %d\" % len(test_data))\n",
    "train_dataset = tf.data.Dataset.from_tensor_slices(data).batch(batchsize)\n",
    "test_dataset = tf.data.Dataset.from_tensor_slices(test_data).batch(batchsize)"
   ]
  },
  {
   "cell_type": "code",
   "execution_count": 4,
   "metadata": {},
   "outputs": [],
   "source": [
    "net = BspNet2D(batchsize)"
   ]
  },
  {
   "cell_type": "code",
   "execution_count": 5,
   "metadata": {},
   "outputs": [],
   "source": [
    "def train_step(net, example, optimizer):\n",
    "    with tf.GradientTape() as tape:\n",
    "        output, _ = net(example)\n",
    "        F = tf.reshape(example, [-1, 64*64, 1])\n",
    "        loss = stage1_loss(output, F, net.decoder.L2.weight, net.decoder.L3.weight) \n",
    "    return loss, tape.gradient(loss, net.trainable_variables)"
   ]
  },
  {
   "cell_type": "code",
   "execution_count": 6,
   "metadata": {},
   "outputs": [],
   "source": [
    "opt = tf.keras.optimizers.Adam(0.000001)"
   ]
  },
  {
   "cell_type": "code",
   "execution_count": 7,
   "metadata": {},
   "outputs": [],
   "source": [
    "\n",
    "            \n",
    "def test(net, test_ds):\n",
    "    total_loss = 0\n",
    "    counter = 0\n",
    "    for data in test_ds:\n",
    "        example = tf.cast(data, tf.float32)\n",
    "        F = tf.reshape(example, [-1, 64*64, 1])\n",
    "        S,_ = net(example)\n",
    "        loss = stage1_loss(S, F, net.decoder.L2.weight, net.decoder.L3.weight) \n",
    "        total_loss = (total_loss*counter + loss)/(counter + 1)\n",
    "        counter += 1\n",
    "    return total_loss\n",
    "            "
   ]
  },
  {
   "cell_type": "code",
   "execution_count": null,
   "metadata": {
    "scrolled": true
   },
   "outputs": [],
   "source": [
    "\n",
    "epoch = 500\n",
    "net.load_weights('stage1_version2_BS32')\n",
    "train_loss_list = []\n",
    "test_loss_list = []\n",
    "prev_test_loss = test(net, test_dataset)\n",
    "print(prev_test_loss)\n",
    "for i in range(epoch):\n",
    "    total_loss = 0\n",
    "    counter = 0\n",
    "    for data in train_dataset:\n",
    "        example = tf.cast(data, tf.float32)\n",
    "        loss, grads = train_step(net, example, opt)\n",
    "        total_loss = (total_loss*counter + loss)/(counter + 1)\n",
    "        counter += 1\n",
    "        opt.apply_gradients(zip(grads, net.trainable_variables))\n",
    "        \n",
    "    test_loss = test(net, test_dataset)\n",
    "    print(\"Epoch {:03d}: Train_Loss: {:.3f}, Test_Loss: {:.3f}\".format(i, total_loss, test_loss))\n",
    "    train_loss_list.append(total_loss)\n",
    "    test_loss_list.append(test_loss)\n",
    "    if test_loss < prev_test_loss:\n",
    "        net.save_weights('stage1_version2_BS32')\n",
    "        prev_test_loss = test_loss\n",
    "    "
   ]
  },
  {
   "cell_type": "code",
   "execution_count": null,
   "metadata": {},
   "outputs": [],
   "source": []
  },
  {
   "cell_type": "code",
   "execution_count": 8,
   "metadata": {},
   "outputs": [
    {
     "name": "stdout",
     "output_type": "stream",
     "text": [
      "tf.Tensor(95.73111, shape=(), dtype=float32)\n",
      "(1, 4096, 64)\n",
      "[[0. 0. 0. ... 0. 0. 0.]\n",
      " [0. 0. 0. ... 0. 0. 0.]\n",
      " [0. 0. 0. ... 0. 0. 0.]\n",
      " ...\n",
      " [0. 0. 0. ... 0. 0. 0.]\n",
      " [0. 0. 0. ... 0. 0. 0.]\n",
      " [0. 0. 0. ... 0. 0. 0.]]\n"
     ]
    }
   ],
   "source": [
    "net.decoder.switchStage(1)\n",
    "net.load_weights('stage1_version2_BS32')\n",
    "prev_test_loss = test(net, test_dataset)\n",
    "print(prev_test_loss)\n",
    "em = tf.constant(test_data[11].reshape(1,64,64,1))\n",
    "ps, x2 = net(tf.cast(em,dtype=tf.float32))\n",
    "print(x2.shape)\n",
    "ps = (ps.numpy()).reshape(64,64)\n",
    "em = test_data[11].reshape(64,64)\n",
    "ps[ps>1]=1\n",
    "ps[ps<=0.01]=0\n",
    "print(ps)\n",
    "# ps[ps>=0.6] = 1\n",
    "# ps[ps<0.6] = 0"
   ]
  },
  {
   "cell_type": "code",
   "execution_count": 9,
   "metadata": {},
   "outputs": [
    {
     "data": {
      "text/plain": [
       "<matplotlib.image.AxesImage at 0x7f5c5c0b5450>"
      ]
     },
     "execution_count": 9,
     "metadata": {},
     "output_type": "execute_result"
    },
    {
     "data": {
      "image/png": "[encoded data removed]",
      "text/plain": [
       "<Figure size 432x288 with 1 Axes>"
      ]
     },
     "metadata": {
      "needs_background": "light"
     },
     "output_type": "display_data"
    }
   ],
   "source": [
    "plt.imshow(em)"
   ]
  },
  {
   "cell_type": "code",
   "execution_count": 10,
   "metadata": {},
   "outputs": [
    {
     "data": {
      "text/plain": [
       "<matplotlib.image.AxesImage at 0x7f5c50094410>"
      ]
     },
     "execution_count": 10,
     "metadata": {},
     "output_type": "execute_result"
    },
    {
     "data": {
      "image/png": "[encoded data removed]",
      "text/plain": [
       "<Figure size 432x288 with 1 Axes>"
      ]
     },
     "metadata": {
      "needs_background": "light"
     },
     "output_type": "display_data"
    }
   ],
   "source": [
    "plt.imshow(ps)"
   ]
  },
  {
   "cell_type": "code",
   "execution_count": 11,
   "metadata": {},
   "outputs": [
    {
     "data": {
      "text/plain": [
       "2"
      ]
     },
     "execution_count": 11,
     "metadata": {},
     "output_type": "execute_result"
    }
   ],
   "source": [
    "net.decoder.switchStage(2)\n",
    "net.decoder.stage"
   ]
  },
  {
   "cell_type": "code",
   "execution_count": 12,
   "metadata": {},
   "outputs": [
    {
     "data": {
      "text/plain": [
       "<tf.Variable 'Variable:0' shape=(256, 64) dtype=float32, numpy=\n",
       "array([[0., 0., 0., ..., 1., 0., 0.],\n",
       "       [0., 1., 1., ..., 0., 0., 0.],\n",
       "       [1., 0., 1., ..., 0., 0., 1.],\n",
       "       ...,\n",
       "       [0., 0., 0., ..., 0., 0., 1.],\n",
       "       [0., 0., 1., ..., 0., 1., 1.],\n",
       "       [0., 1., 0., ..., 0., 1., 1.]], dtype=float32)>"
      ]
     },
     "execution_count": 12,
     "metadata": {},
     "output_type": "execute_result"
    }
   ],
   "source": [
    "net.decoder.L2.weight"
   ]
  },
  {
   "cell_type": "code",
   "execution_count": 13,
   "metadata": {},
   "outputs": [],
   "source": [
    "def train_step_stage2(net, example, optimizer):\n",
    "\n",
    "    with tf.GradientTape() as tape:\n",
    "        output, M = net(example)\n",
    "        F = tf.reshape(example, [-1, 64*64, 1])\n",
    "        loss = stage2_loss(output, F,M) \n",
    "    return loss, tape.gradient(loss, net.trainable_variables)\n",
    "\n",
    "def test_stage2(net, test_ds):\n",
    "    total_loss = 0\n",
    "    counter = 0\n",
    "    for data in test_ds:\n",
    "        example = tf.cast(data, tf.float32)\n",
    "        F = tf.reshape(example, [-1, 64*64, 1])\n",
    "        output, M = net(example)\n",
    "        loss = stage2_loss(output, F,M) \n",
    "        total_loss = (total_loss*counter + loss)/(counter + 1)\n",
    "        counter += 1\n",
    "    return total_loss\n",
    "\n",
    "            \n"
   ]
  },
  {
   "cell_type": "code",
   "execution_count": 27,
   "metadata": {},
   "outputs": [],
   "source": [
    "opt = tf.keras.optimizers.Adam(learning_rate=0.000001, epsilon=1e-08)\n"
   ]
  },
  {
   "cell_type": "code",
   "execution_count": 28,
   "metadata": {
    "scrolled": true
   },
   "outputs": [
    {
     "name": "stdout",
     "output_type": "stream",
     "text": [
      "tf.Tensor(0.05098789, shape=(), dtype=float32)\n",
      "Epoch 000: Train_Loss: 0.032, Test_Loss: 0.051\n",
      "model saved\n",
      "Epoch 001: Train_Loss: 0.032, Test_Loss: 0.051\n",
      "model saved\n",
      "Epoch 002: Train_Loss: 0.032, Test_Loss: 0.051\n",
      "model saved\n",
      "Epoch 003: Train_Loss: 0.032, Test_Loss: 0.051\n",
      "model saved\n",
      "Epoch 004: Train_Loss: 0.032, Test_Loss: 0.051\n",
      "model saved\n",
      "Epoch 005: Train_Loss: 0.032, Test_Loss: 0.051\n",
      "Epoch 006: Train_Loss: 0.032, Test_Loss: 0.051\n",
      "model saved\n",
      "Epoch 007: Train_Loss: 0.032, Test_Loss: 0.051\n",
      "Epoch 008: Train_Loss: 0.032, Test_Loss: 0.051\n",
      "model saved\n",
      "Epoch 009: Train_Loss: 0.032, Test_Loss: 0.051\n",
      "model saved\n",
      "Epoch 010: Train_Loss: 0.032, Test_Loss: 0.051\n",
      "model saved\n",
      "Epoch 011: Train_Loss: 0.032, Test_Loss: 0.051\n",
      "Epoch 012: Train_Loss: 0.032, Test_Loss: 0.051\n",
      "model saved\n",
      "Epoch 013: Train_Loss: 0.032, Test_Loss: 0.051\n",
      "model saved\n",
      "Epoch 014: Train_Loss: 0.032, Test_Loss: 0.051\n",
      "model saved\n",
      "Epoch 015: Train_Loss: 0.032, Test_Loss: 0.051\n",
      "Epoch 016: Train_Loss: 0.032, Test_Loss: 0.051\n",
      "Epoch 017: Train_Loss: 0.032, Test_Loss: 0.051\n",
      "model saved\n",
      "Epoch 018: Train_Loss: 0.032, Test_Loss: 0.051\n",
      "model saved\n",
      "Epoch 019: Train_Loss: 0.032, Test_Loss: 0.051\n",
      "Epoch 020: Train_Loss: 0.032, Test_Loss: 0.051\n",
      "Epoch 021: Train_Loss: 0.032, Test_Loss: 0.051\n",
      "model saved\n",
      "Epoch 022: Train_Loss: 0.032, Test_Loss: 0.051\n",
      "model saved\n",
      "Epoch 023: Train_Loss: 0.032, Test_Loss: 0.051\n",
      "model saved\n",
      "Epoch 024: Train_Loss: 0.032, Test_Loss: 0.051\n",
      "model saved\n",
      "Epoch 025: Train_Loss: 0.032, Test_Loss: 0.051\n",
      "model saved\n",
      "Epoch 026: Train_Loss: 0.032, Test_Loss: 0.051\n",
      "model saved\n",
      "Epoch 027: Train_Loss: 0.032, Test_Loss: 0.051\n",
      "Epoch 028: Train_Loss: 0.032, Test_Loss: 0.051\n",
      "model saved\n",
      "Epoch 029: Train_Loss: 0.032, Test_Loss: 0.051\n",
      "model saved\n",
      "Epoch 030: Train_Loss: 0.032, Test_Loss: 0.051\n",
      "Epoch 031: Train_Loss: 0.032, Test_Loss: 0.051\n",
      "model saved\n",
      "Epoch 032: Train_Loss: 0.032, Test_Loss: 0.051\n",
      "model saved\n",
      "Epoch 033: Train_Loss: 0.032, Test_Loss: 0.051\n",
      "model saved\n",
      "Epoch 034: Train_Loss: 0.032, Test_Loss: 0.051\n",
      "model saved\n",
      "Epoch 035: Train_Loss: 0.032, Test_Loss: 0.051\n",
      "Epoch 036: Train_Loss: 0.032, Test_Loss: 0.051\n",
      "model saved\n",
      "Epoch 037: Train_Loss: 0.032, Test_Loss: 0.051\n",
      "model saved\n",
      "Epoch 038: Train_Loss: 0.032, Test_Loss: 0.051\n",
      "model saved\n",
      "Epoch 039: Train_Loss: 0.032, Test_Loss: 0.051\n",
      "model saved\n",
      "Epoch 040: Train_Loss: 0.032, Test_Loss: 0.051\n",
      "model saved\n",
      "Epoch 041: Train_Loss: 0.032, Test_Loss: 0.051\n",
      "model saved\n",
      "Epoch 042: Train_Loss: 0.032, Test_Loss: 0.051\n",
      "model saved\n",
      "Epoch 043: Train_Loss: 0.032, Test_Loss: 0.051\n",
      "model saved\n",
      "Epoch 044: Train_Loss: 0.032, Test_Loss: 0.051\n",
      "model saved\n",
      "Epoch 045: Train_Loss: 0.032, Test_Loss: 0.051\n",
      "Epoch 046: Train_Loss: 0.032, Test_Loss: 0.051\n",
      "model saved\n",
      "Epoch 047: Train_Loss: 0.032, Test_Loss: 0.051\n",
      "model saved\n",
      "Epoch 048: Train_Loss: 0.032, Test_Loss: 0.051\n",
      "model saved\n",
      "Epoch 049: Train_Loss: 0.032, Test_Loss: 0.051\n",
      "model saved\n",
      "Epoch 050: Train_Loss: 0.032, Test_Loss: 0.051\n",
      "model saved\n",
      "Epoch 051: Train_Loss: 0.032, Test_Loss: 0.051\n",
      "model saved\n",
      "Epoch 052: Train_Loss: 0.031, Test_Loss: 0.051\n",
      "model saved\n",
      "Epoch 053: Train_Loss: 0.031, Test_Loss: 0.051\n",
      "model saved\n",
      "Epoch 054: Train_Loss: 0.031, Test_Loss: 0.051\n",
      "model saved\n",
      "Epoch 055: Train_Loss: 0.031, Test_Loss: 0.051\n",
      "model saved\n",
      "Epoch 056: Train_Loss: 0.031, Test_Loss: 0.051\n",
      "Epoch 057: Train_Loss: 0.031, Test_Loss: 0.051\n",
      "model saved\n",
      "Epoch 058: Train_Loss: 0.031, Test_Loss: 0.051\n",
      "Epoch 059: Train_Loss: 0.031, Test_Loss: 0.051\n",
      "model saved\n",
      "Epoch 060: Train_Loss: 0.031, Test_Loss: 0.051\n",
      "Epoch 061: Train_Loss: 0.031, Test_Loss: 0.051\n",
      "model saved\n",
      "Epoch 062: Train_Loss: 0.031, Test_Loss: 0.051\n",
      "model saved\n",
      "Epoch 063: Train_Loss: 0.031, Test_Loss: 0.051\n",
      "model saved\n",
      "Epoch 064: Train_Loss: 0.031, Test_Loss: 0.051\n",
      "model saved\n",
      "Epoch 065: Train_Loss: 0.031, Test_Loss: 0.051\n",
      "model saved\n",
      "Epoch 066: Train_Loss: 0.031, Test_Loss: 0.051\n",
      "Epoch 067: Train_Loss: 0.031, Test_Loss: 0.051\n",
      "model saved\n",
      "Epoch 068: Train_Loss: 0.031, Test_Loss: 0.051\n",
      "model saved\n",
      "Epoch 069: Train_Loss: 0.031, Test_Loss: 0.051\n",
      "model saved\n",
      "Epoch 070: Train_Loss: 0.031, Test_Loss: 0.051\n",
      "Epoch 071: Train_Loss: 0.031, Test_Loss: 0.051\n",
      "model saved\n",
      "Epoch 072: Train_Loss: 0.031, Test_Loss: 0.051\n",
      "model saved\n",
      "Epoch 073: Train_Loss: 0.031, Test_Loss: 0.051\n",
      "Epoch 074: Train_Loss: 0.031, Test_Loss: 0.051\n",
      "Epoch 075: Train_Loss: 0.031, Test_Loss: 0.051\n",
      "Epoch 076: Train_Loss: 0.031, Test_Loss: 0.051\n",
      "Epoch 077: Train_Loss: 0.031, Test_Loss: 0.051\n",
      "Epoch 078: Train_Loss: 0.031, Test_Loss: 0.051\n",
      "Epoch 079: Train_Loss: 0.031, Test_Loss: 0.051\n",
      "Epoch 080: Train_Loss: 0.031, Test_Loss: 0.051\n",
      "Epoch 081: Train_Loss: 0.031, Test_Loss: 0.051\n",
      "Epoch 082: Train_Loss: 0.031, Test_Loss: 0.051\n",
      "Epoch 083: Train_Loss: 0.031, Test_Loss: 0.051\n",
      "Epoch 084: Train_Loss: 0.031, Test_Loss: 0.051\n",
      "model saved\n",
      "Epoch 085: Train_Loss: 0.031, Test_Loss: 0.051\n",
      "Epoch 086: Train_Loss: 0.031, Test_Loss: 0.051\n",
      "model saved\n",
      "Epoch 087: Train_Loss: 0.031, Test_Loss: 0.051\n",
      "Epoch 088: Train_Loss: 0.031, Test_Loss: 0.051\n",
      "model saved\n",
      "Epoch 089: Train_Loss: 0.031, Test_Loss: 0.051\n",
      "Epoch 090: Train_Loss: 0.031, Test_Loss: 0.051\n",
      "model saved\n",
      "Epoch 091: Train_Loss: 0.031, Test_Loss: 0.051\n",
      "Epoch 092: Train_Loss: 0.031, Test_Loss: 0.051\n",
      "Epoch 093: Train_Loss: 0.031, Test_Loss: 0.051\n",
      "Epoch 094: Train_Loss: 0.031, Test_Loss: 0.051\n",
      "Epoch 095: Train_Loss: 0.031, Test_Loss: 0.051\n",
      "model saved\n",
      "Epoch 096: Train_Loss: 0.031, Test_Loss: 0.051\n",
      "Epoch 097: Train_Loss: 0.031, Test_Loss: 0.051\n",
      "Epoch 098: Train_Loss: 0.031, Test_Loss: 0.051\n",
      "model saved\n",
      "Epoch 099: Train_Loss: 0.031, Test_Loss: 0.051\n",
      "Epoch 100: Train_Loss: 0.031, Test_Loss: 0.051\n",
      "Epoch 101: Train_Loss: 0.031, Test_Loss: 0.051\n",
      "model saved\n",
      "Epoch 102: Train_Loss: 0.031, Test_Loss: 0.051\n",
      "model saved\n",
      "Epoch 103: Train_Loss: 0.031, Test_Loss: 0.051\n",
      "Epoch 104: Train_Loss: 0.031, Test_Loss: 0.051\n",
      "model saved\n",
      "Epoch 105: Train_Loss: 0.031, Test_Loss: 0.051\n",
      "model saved\n",
      "Epoch 106: Train_Loss: 0.031, Test_Loss: 0.051\n",
      "model saved\n",
      "Epoch 107: Train_Loss: 0.031, Test_Loss: 0.051\n",
      "model saved\n",
      "Epoch 108: Train_Loss: 0.031, Test_Loss: 0.051\n",
      "model saved\n",
      "Epoch 109: Train_Loss: 0.031, Test_Loss: 0.051\n",
      "model saved\n",
      "Epoch 110: Train_Loss: 0.031, Test_Loss: 0.051\n",
      "model saved\n",
      "Epoch 111: Train_Loss: 0.031, Test_Loss: 0.051\n",
      "model saved\n",
      "Epoch 112: Train_Loss: 0.031, Test_Loss: 0.051\n",
      "Epoch 113: Train_Loss: 0.031, Test_Loss: 0.051\n",
      "Epoch 114: Train_Loss: 0.031, Test_Loss: 0.051\n",
      "model saved\n",
      "Epoch 115: Train_Loss: 0.031, Test_Loss: 0.051\n",
      "model saved\n",
      "Epoch 116: Train_Loss: 0.031, Test_Loss: 0.051\n",
      "model saved\n",
      "Epoch 117: Train_Loss: 0.031, Test_Loss: 0.051\n",
      "Epoch 118: Train_Loss: 0.031, Test_Loss: 0.051\n",
      "Epoch 119: Train_Loss: 0.031, Test_Loss: 0.051\n",
      "Epoch 120: Train_Loss: 0.031, Test_Loss: 0.051\n",
      "Epoch 121: Train_Loss: 0.031, Test_Loss: 0.051\n",
      "model saved\n",
      "Epoch 122: Train_Loss: 0.031, Test_Loss: 0.051\n",
      "model saved\n",
      "Epoch 123: Train_Loss: 0.031, Test_Loss: 0.051\n",
      "Epoch 124: Train_Loss: 0.031, Test_Loss: 0.051\n",
      "model saved\n",
      "Epoch 125: Train_Loss: 0.031, Test_Loss: 0.051\n",
      "Epoch 126: Train_Loss: 0.031, Test_Loss: 0.051\n",
      "Epoch 127: Train_Loss: 0.031, Test_Loss: 0.051\n",
      "model saved\n",
      "Epoch 128: Train_Loss: 0.031, Test_Loss: 0.051\n",
      "model saved\n",
      "Epoch 129: Train_Loss: 0.031, Test_Loss: 0.051\n",
      "model saved\n",
      "Epoch 130: Train_Loss: 0.031, Test_Loss: 0.051\n",
      "Epoch 131: Train_Loss: 0.031, Test_Loss: 0.051\n",
      "model saved\n",
      "Epoch 132: Train_Loss: 0.031, Test_Loss: 0.051\n",
      "Epoch 133: Train_Loss: 0.031, Test_Loss: 0.051\n",
      "Epoch 134: Train_Loss: 0.031, Test_Loss: 0.051\n",
      "Epoch 135: Train_Loss: 0.031, Test_Loss: 0.051\n",
      "Epoch 136: Train_Loss: 0.031, Test_Loss: 0.051\n",
      "Epoch 137: Train_Loss: 0.031, Test_Loss: 0.051\n",
      "Epoch 138: Train_Loss: 0.031, Test_Loss: 0.051\n",
      "Epoch 139: Train_Loss: 0.031, Test_Loss: 0.051\n",
      "Epoch 140: Train_Loss: 0.031, Test_Loss: 0.051\n",
      "model saved\n",
      "Epoch 141: Train_Loss: 0.031, Test_Loss: 0.051\n",
      "Epoch 142: Train_Loss: 0.031, Test_Loss: 0.051\n",
      "model saved\n",
      "Epoch 143: Train_Loss: 0.031, Test_Loss: 0.051\n",
      "model saved\n",
      "Epoch 144: Train_Loss: 0.031, Test_Loss: 0.051\n",
      "Epoch 145: Train_Loss: 0.031, Test_Loss: 0.051\n",
      "model saved\n",
      "Epoch 146: Train_Loss: 0.031, Test_Loss: 0.051\n",
      "Epoch 147: Train_Loss: 0.031, Test_Loss: 0.051\n",
      "Epoch 148: Train_Loss: 0.031, Test_Loss: 0.051\n",
      "model saved\n",
      "Epoch 149: Train_Loss: 0.031, Test_Loss: 0.051\n",
      "Epoch 150: Train_Loss: 0.031, Test_Loss: 0.051\n"
     ]
    },
    {
     "name": "stdout",
     "output_type": "stream",
     "text": [
      "Epoch 151: Train_Loss: 0.031, Test_Loss: 0.051\n",
      "model saved\n",
      "Epoch 152: Train_Loss: 0.031, Test_Loss: 0.051\n",
      "model saved\n",
      "Epoch 153: Train_Loss: 0.031, Test_Loss: 0.051\n",
      "model saved\n",
      "Epoch 154: Train_Loss: 0.031, Test_Loss: 0.051\n",
      "model saved\n",
      "Epoch 155: Train_Loss: 0.031, Test_Loss: 0.051\n",
      "model saved\n",
      "Epoch 156: Train_Loss: 0.031, Test_Loss: 0.051\n",
      "model saved\n",
      "Epoch 157: Train_Loss: 0.031, Test_Loss: 0.051\n",
      "model saved\n",
      "Epoch 158: Train_Loss: 0.031, Test_Loss: 0.051\n",
      "model saved\n",
      "Epoch 159: Train_Loss: 0.031, Test_Loss: 0.051\n",
      "model saved\n",
      "Epoch 160: Train_Loss: 0.031, Test_Loss: 0.051\n",
      "Epoch 161: Train_Loss: 0.031, Test_Loss: 0.051\n",
      "Epoch 162: Train_Loss: 0.031, Test_Loss: 0.051\n",
      "Epoch 163: Train_Loss: 0.031, Test_Loss: 0.051\n",
      "Epoch 164: Train_Loss: 0.031, Test_Loss: 0.051\n",
      "model saved\n",
      "Epoch 165: Train_Loss: 0.031, Test_Loss: 0.051\n",
      "Epoch 166: Train_Loss: 0.031, Test_Loss: 0.051\n",
      "Epoch 167: Train_Loss: 0.031, Test_Loss: 0.051\n",
      "Epoch 168: Train_Loss: 0.031, Test_Loss: 0.051\n",
      "model saved\n",
      "Epoch 169: Train_Loss: 0.031, Test_Loss: 0.051\n",
      "Epoch 170: Train_Loss: 0.031, Test_Loss: 0.051\n",
      "model saved\n",
      "Epoch 171: Train_Loss: 0.031, Test_Loss: 0.051\n",
      "model saved\n",
      "Epoch 172: Train_Loss: 0.031, Test_Loss: 0.051\n",
      "Epoch 173: Train_Loss: 0.031, Test_Loss: 0.051\n",
      "model saved\n",
      "Epoch 174: Train_Loss: 0.031, Test_Loss: 0.051\n",
      "Epoch 175: Train_Loss: 0.031, Test_Loss: 0.051\n",
      "model saved\n",
      "Epoch 176: Train_Loss: 0.031, Test_Loss: 0.051\n",
      "Epoch 177: Train_Loss: 0.031, Test_Loss: 0.051\n",
      "Epoch 178: Train_Loss: 0.031, Test_Loss: 0.051\n",
      "model saved\n",
      "Epoch 179: Train_Loss: 0.031, Test_Loss: 0.051\n",
      "Epoch 180: Train_Loss: 0.031, Test_Loss: 0.051\n",
      "Epoch 181: Train_Loss: 0.031, Test_Loss: 0.051\n",
      "Epoch 182: Train_Loss: 0.031, Test_Loss: 0.051\n",
      "Epoch 183: Train_Loss: 0.031, Test_Loss: 0.051\n",
      "Epoch 184: Train_Loss: 0.031, Test_Loss: 0.051\n",
      "Epoch 185: Train_Loss: 0.031, Test_Loss: 0.051\n",
      "Epoch 186: Train_Loss: 0.031, Test_Loss: 0.051\n",
      "Epoch 187: Train_Loss: 0.031, Test_Loss: 0.051\n",
      "Epoch 188: Train_Loss: 0.031, Test_Loss: 0.051\n",
      "Epoch 189: Train_Loss: 0.031, Test_Loss: 0.051\n",
      "Epoch 190: Train_Loss: 0.031, Test_Loss: 0.051\n",
      "model saved\n",
      "Epoch 191: Train_Loss: 0.031, Test_Loss: 0.051\n",
      "model saved\n",
      "Epoch 192: Train_Loss: 0.031, Test_Loss: 0.051\n",
      "model saved\n",
      "Epoch 193: Train_Loss: 0.031, Test_Loss: 0.051\n",
      "Epoch 194: Train_Loss: 0.031, Test_Loss: 0.051\n",
      "Epoch 195: Train_Loss: 0.031, Test_Loss: 0.051\n",
      "Epoch 196: Train_Loss: 0.031, Test_Loss: 0.051\n",
      "model saved\n",
      "Epoch 197: Train_Loss: 0.031, Test_Loss: 0.051\n",
      "model saved\n",
      "Epoch 198: Train_Loss: 0.031, Test_Loss: 0.051\n",
      "Epoch 199: Train_Loss: 0.031, Test_Loss: 0.051\n"
     ]
    }
   ],
   "source": [
    "\n",
    "        \n",
    "epoch = 200\n",
    "net.load_weights('stage2_version0_BS32')\n",
    "train_loss_list = []\n",
    "test_loss_list = []\n",
    "prev_test_loss = test_stage2(net, test_dataset)\n",
    "print(prev_test_loss)\n",
    "for i in range(epoch):\n",
    "    total_loss = 0\n",
    "    counter = 0\n",
    "    for data in train_dataset:\n",
    "        example = tf.cast(data, tf.float32)\n",
    "        loss, grads = train_step_stage2(net, example, opt)\n",
    "        total_loss = (total_loss*counter + loss)/(counter + 1)\n",
    "        counter += 1\n",
    "        opt.apply_gradients(zip(grads, net.trainable_variables))\n",
    "        \n",
    "    test_loss = test_stage2(net, test_dataset)\n",
    "    print(\"Epoch {:03d}: Train_Loss: {:.3f}, Test_Loss: {:.3f}\".format(i, total_loss, test_loss))\n",
    "    train_loss_list.append(total_loss)\n",
    "    test_loss_list.append(test_loss)\n",
    "    if test_loss < prev_test_loss:\n",
    "        net.save_weights('stage2_version0_BS32')\n",
    "        print(\"model saved\")\n",
    "        prev_test_loss = test_loss\n",
    "    "
   ]
  },
  {
   "cell_type": "code",
   "execution_count": 29,
   "metadata": {},
   "outputs": [
    {
     "name": "stdout",
     "output_type": "stream",
     "text": [
      "tf.Tensor(0.050749693, shape=(), dtype=float32)\n",
      "1.0674446\n",
      "tf.Tensor(\n",
      "[[[0. 0. 0. ... 0. 0. 0.]\n",
      "  [0. 0. 0. ... 0. 0. 0.]\n",
      "  [0. 0. 0. ... 0. 0. 0.]\n",
      "  ...\n",
      "  [0. 0. 0. ... 0. 0. 0.]\n",
      "  [0. 0. 0. ... 0. 0. 0.]\n",
      "  [0. 0. 0. ... 0. 0. 0.]]], shape=(1, 4096, 64), dtype=float32)\n"
     ]
    }
   ],
   "source": [
    "# net.decoder.switchStage(2)\n",
    "net.load_weights('stage2_version0_BS32')\n",
    "prev_test_loss = test_stage2(net, test_dataset)\n",
    "print(prev_test_loss)\n",
    "em = tf.constant(test_data[11].reshape(1,64,64,1))\n",
    "\n",
    "ps, x2 = net(tf.cast(em,dtype=tf.float32))\n",
    "print(net.decoder.L3.weight.numpy().max())\n",
    "ps = (ps.numpy()).reshape(64,64)\n",
    "em = test_data[11].reshape(64,64)\n",
    "print(x2)\n",
    "ps[ps>0]=1\n",
    "ps[ps<=0]=0\n",
    "# ps[ps>=0.6] = 1\n",
    "# ps[ps<0.6] = 0"
   ]
  },
  {
   "cell_type": "code",
   "execution_count": 30,
   "metadata": {},
   "outputs": [
    {
     "data": {
      "text/plain": [
       "<matplotlib.image.AxesImage at 0x7f5bbc53a350>"
      ]
     },
     "execution_count": 30,
     "metadata": {},
     "output_type": "execute_result"
    },
    {
     "data": {
      "image/png": "[encoded data removed]",
      "text/plain": [
       "<Figure size 432x288 with 1 Axes>"
      ]
     },
     "metadata": {
      "needs_background": "light"
     },
     "output_type": "display_data"
    }
   ],
   "source": [
    "plt.imshow(ps)"
   ]
  },
  {
   "cell_type": "code",
   "execution_count": 31,
   "metadata": {},
   "outputs": [
    {
     "data": {
      "text/plain": [
       "<matplotlib.image.AxesImage at 0x7f5c080a3f90>"
      ]
     },
     "execution_count": 31,
     "metadata": {},
     "output_type": "execute_result"
    },
    {
     "data": {
      "image/png": "[encoded data removed]",
      "text/plain": [
       "<Figure size 432x288 with 1 Axes>"
      ]
     },
     "metadata": {
      "needs_background": "light"
     },
     "output_type": "display_data"
    }
   ],
   "source": [
    "em = tf.constant(test_data[12].reshape(1,64,64,1))\n",
    "cj = net.convex(tf.cast(em,dtype=tf.float32))\n",
    "cj=cj.numpy()[0].reshape(64,64,-1)\n",
    "cj[cj>0]=1\n",
    "cj=cj.sum(axis=2)\n",
    "plt.imshow(cj[:,:])"
   ]
  },
  {
   "cell_type": "code",
   "execution_count": 59,
   "metadata": {},
   "outputs": [
    {
     "data": {
      "text/plain": [
       "34.615025"
      ]
     },
     "execution_count": 59,
     "metadata": {},
     "output_type": "execute_result"
    }
   ],
   "source": [
    "cj.min()"
   ]
  },
  {
   "cell_type": "code",
   "execution_count": null,
   "metadata": {},
   "outputs": [],
   "source": []
  }
 ],
 "metadata": {
  "kernelspec": {
   "display_name": "Python 3",
   "language": "python",
   "name": "python3"
  },
  "language_info": {
   "codemirror_mode": {
    "name": "ipython",
    "version": 3
   },
   "file_extension": ".py",
   "mimetype": "text/x-python",
   "name": "python",
   "nbconvert_exporter": "python",
   "pygments_lexer": "ipython3",
   "version": "3.7.6"
  }
 },
 "nbformat": 4,
 "nbformat_minor": 4
}
