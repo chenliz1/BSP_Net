{
 "cells": [
  {
   "cell_type": "code",
   "execution_count": 1,
   "metadata": {},
   "outputs": [],
   "source": [
    "from __future__ import absolute_import, division, print_function, unicode_literals\n",
    "import os\n",
    "import h5py\n",
    "import numpy as np  \n",
    "import tensorflow as tf\n",
    "from tensorflow import keras\n",
    "import matplotlib.pyplot as plt\n",
    "from bspnet2D import BspNet2D\n",
    "from loss_func import stage1_loss, rec_loss\n",
    "batchsize = 32\n",
    "epoch = 200"
   ]
  },
  {
   "cell_type": "code",
   "execution_count": 2,
   "metadata": {},
   "outputs": [
    {
     "name": "stdout",
     "output_type": "stream",
     "text": [
      "Keys: <KeysViewHDF5 ['pixels']>\n",
      "Keys: <KeysViewHDF5 ['pixels']>\n"
     ]
    }
   ],
   "source": [
    "with h5py.File('complex_elements.hdf5', 'r') as f:\n",
    "    # List all groups\n",
    "    print(\"Keys: %s\" % f.keys())\n",
    "    a_group_key = list(f.keys())[0]\n",
    "\n",
    "    # Get the data\n",
    "    data = list(f[a_group_key])\n",
    "    \n",
    "    \n",
    "with h5py.File('complex_elements_test.hdf5', 'r') as f:\n",
    "    # List all groups\n",
    "    print(\"Keys: %s\" % f.keys())\n",
    "    a_group_key = list(f.keys())[0]\n",
    "\n",
    "    # Get the data\n",
    "    test_data = list(f[a_group_key])\n",
    "    "
   ]
  },
  {
   "cell_type": "code",
   "execution_count": 3,
   "metadata": {},
   "outputs": [
    {
     "name": "stdout",
     "output_type": "stream",
     "text": [
      "Training Dataset Length: 2000\n",
      "Testing Dataset Length: 500\n"
     ]
    }
   ],
   "source": [
    "print(\"Training Dataset Length: %d\" % len(data))\n",
    "print(\"Testing Dataset Length: %d\" % len(test_data))\n",
    "train_dataset = tf.data.Dataset.from_tensor_slices(data).batch(batchsize)\n",
    "test_dataset = tf.data.Dataset.from_tensor_slices(test_data).batch(batchsize)"
   ]
  },
  {
   "cell_type": "code",
   "execution_count": 4,
   "metadata": {},
   "outputs": [],
   "source": [
    "net = BspNet2D(batchsize)"
   ]
  },
  {
   "cell_type": "code",
   "execution_count": 5,
   "metadata": {},
   "outputs": [],
   "source": [
    "def train_step(net, example, optimizer):\n",
    "    with tf.GradientTape() as tape:\n",
    "        output = net(example)\n",
    "        F = tf.reshape(example, [-1, 64*64, 1])\n",
    "        loss = stage1_loss(output, F, net.decoder.L2.weight, net.decoder.L3.weight) \n",
    "    return loss, tape.gradient(loss, net.trainable_variables)"
   ]
  },
  {
   "cell_type": "code",
   "execution_count": 14,
   "metadata": {},
   "outputs": [],
   "source": [
    "opt = tf.keras.optimizers.Adam(0.00001)"
   ]
  },
  {
   "cell_type": "code",
   "execution_count": 7,
   "metadata": {},
   "outputs": [],
   "source": [
    "\n",
    "            \n",
    "def test(net, test_ds):\n",
    "    total_loss = 0\n",
    "    counter = 0\n",
    "    for data in test_ds:\n",
    "        example = tf.cast(data, tf.float32)\n",
    "        F = tf.reshape(example, [-1, 64*64, 1])\n",
    "        S = net(example)\n",
    "        loss = stage1_loss(S, F, net.decoder.L2.weight, net.decoder.L3.weight) \n",
    "        total_loss = (total_loss*counter + loss)/(counter + 1)\n",
    "        counter += 1\n",
    "    return total_loss\n",
    "            "
   ]
  },
  {
   "cell_type": "code",
   "execution_count": 17,
   "metadata": {
    "scrolled": true
   },
   "outputs": [
    {
     "name": "stdout",
     "output_type": "stream",
     "text": [
      "tf.Tensor(1.697344, shape=(), dtype=float32)\n",
      "Epoch 000: Train_Loss: 1.528, Test_Loss: 1.697\n",
      "Epoch 001: Train_Loss: 1.527, Test_Loss: 1.697\n",
      "Epoch 002: Train_Loss: 1.527, Test_Loss: 1.697\n",
      "Epoch 003: Train_Loss: 1.527, Test_Loss: 1.697\n",
      "Epoch 004: Train_Loss: 1.526, Test_Loss: 1.697\n",
      "Epoch 005: Train_Loss: 1.526, Test_Loss: 1.697\n",
      "Epoch 006: Train_Loss: 1.526, Test_Loss: 1.696\n",
      "Epoch 007: Train_Loss: 1.525, Test_Loss: 1.696\n",
      "Epoch 008: Train_Loss: 1.525, Test_Loss: 1.696\n",
      "Epoch 009: Train_Loss: 1.524, Test_Loss: 1.695\n",
      "Epoch 010: Train_Loss: 1.524, Test_Loss: 1.696\n",
      "Epoch 011: Train_Loss: 1.524, Test_Loss: 1.696\n",
      "Epoch 012: Train_Loss: 1.524, Test_Loss: 1.695\n",
      "Epoch 013: Train_Loss: 1.523, Test_Loss: 1.695\n",
      "Epoch 014: Train_Loss: 1.523, Test_Loss: 1.694\n",
      "Epoch 015: Train_Loss: 1.523, Test_Loss: 1.694\n",
      "Epoch 016: Train_Loss: 1.522, Test_Loss: 1.694\n",
      "Epoch 017: Train_Loss: 1.522, Test_Loss: 1.694\n",
      "Epoch 018: Train_Loss: 1.522, Test_Loss: 1.694\n",
      "Epoch 019: Train_Loss: 1.521, Test_Loss: 1.693\n",
      "Epoch 020: Train_Loss: 1.521, Test_Loss: 1.693\n",
      "Epoch 021: Train_Loss: 1.520, Test_Loss: 1.693\n",
      "Epoch 022: Train_Loss: 1.520, Test_Loss: 1.693\n",
      "Epoch 023: Train_Loss: 1.520, Test_Loss: 1.692\n",
      "Epoch 024: Train_Loss: 1.519, Test_Loss: 1.692\n",
      "Epoch 025: Train_Loss: 1.519, Test_Loss: 1.691\n",
      "Epoch 026: Train_Loss: 1.519, Test_Loss: 1.691\n",
      "Epoch 027: Train_Loss: 1.518, Test_Loss: 1.691\n",
      "Epoch 028: Train_Loss: 1.518, Test_Loss: 1.691\n",
      "Epoch 029: Train_Loss: 1.518, Test_Loss: 1.690\n",
      "Epoch 030: Train_Loss: 1.517, Test_Loss: 1.690\n",
      "Epoch 031: Train_Loss: 1.517, Test_Loss: 1.690\n",
      "Epoch 032: Train_Loss: 1.516, Test_Loss: 1.689\n",
      "Epoch 033: Train_Loss: 1.516, Test_Loss: 1.690\n",
      "Epoch 034: Train_Loss: 1.516, Test_Loss: 1.689\n",
      "Epoch 035: Train_Loss: 1.515, Test_Loss: 1.689\n",
      "Epoch 036: Train_Loss: 1.515, Test_Loss: 1.689\n",
      "Epoch 037: Train_Loss: 1.515, Test_Loss: 1.689\n",
      "Epoch 038: Train_Loss: 1.514, Test_Loss: 1.688\n",
      "Epoch 039: Train_Loss: 1.514, Test_Loss: 1.688\n",
      "Epoch 040: Train_Loss: 1.514, Test_Loss: 1.688\n",
      "Epoch 041: Train_Loss: 1.513, Test_Loss: 1.688\n",
      "Epoch 042: Train_Loss: 1.513, Test_Loss: 1.687\n",
      "Epoch 043: Train_Loss: 1.513, Test_Loss: 1.687\n",
      "Epoch 044: Train_Loss: 1.513, Test_Loss: 1.687\n",
      "Epoch 045: Train_Loss: 1.512, Test_Loss: 1.687\n",
      "Epoch 046: Train_Loss: 1.512, Test_Loss: 1.687\n",
      "Epoch 047: Train_Loss: 1.512, Test_Loss: 1.686\n",
      "Epoch 048: Train_Loss: 1.511, Test_Loss: 1.687\n",
      "Epoch 049: Train_Loss: 1.511, Test_Loss: 1.686\n",
      "Epoch 050: Train_Loss: 1.511, Test_Loss: 1.686\n",
      "Epoch 051: Train_Loss: 1.510, Test_Loss: 1.686\n",
      "Epoch 052: Train_Loss: 1.510, Test_Loss: 1.686\n",
      "Epoch 053: Train_Loss: 1.510, Test_Loss: 1.686\n",
      "Epoch 054: Train_Loss: 1.509, Test_Loss: 1.686\n",
      "Epoch 055: Train_Loss: 1.509, Test_Loss: 1.685\n",
      "Epoch 056: Train_Loss: 1.508, Test_Loss: 1.685\n",
      "Epoch 057: Train_Loss: 1.508, Test_Loss: 1.685\n",
      "Epoch 058: Train_Loss: 1.508, Test_Loss: 1.684\n",
      "Epoch 059: Train_Loss: 1.508, Test_Loss: 1.684\n",
      "Epoch 060: Train_Loss: 1.507, Test_Loss: 1.683\n",
      "Epoch 061: Train_Loss: 1.507, Test_Loss: 1.683\n",
      "Epoch 062: Train_Loss: 1.506, Test_Loss: 1.683\n",
      "Epoch 063: Train_Loss: 1.506, Test_Loss: 1.683\n",
      "Epoch 064: Train_Loss: 1.506, Test_Loss: 1.682\n",
      "Epoch 065: Train_Loss: 1.505, Test_Loss: 1.682\n",
      "Epoch 066: Train_Loss: 1.505, Test_Loss: 1.681\n",
      "Epoch 067: Train_Loss: 1.505, Test_Loss: 1.681\n",
      "Epoch 068: Train_Loss: 1.505, Test_Loss: 1.681\n",
      "Epoch 069: Train_Loss: 1.504, Test_Loss: 1.681\n",
      "Epoch 070: Train_Loss: 1.504, Test_Loss: 1.681\n",
      "Epoch 071: Train_Loss: 1.504, Test_Loss: 1.681\n",
      "Epoch 072: Train_Loss: 1.503, Test_Loss: 1.680\n",
      "Epoch 073: Train_Loss: 1.503, Test_Loss: 1.680\n",
      "Epoch 074: Train_Loss: 1.503, Test_Loss: 1.680\n",
      "Epoch 075: Train_Loss: 1.502, Test_Loss: 1.679\n",
      "Epoch 076: Train_Loss: 1.502, Test_Loss: 1.679\n",
      "Epoch 077: Train_Loss: 1.502, Test_Loss: 1.679\n",
      "Epoch 078: Train_Loss: 1.501, Test_Loss: 1.679\n",
      "Epoch 079: Train_Loss: 1.501, Test_Loss: 1.678\n",
      "Epoch 080: Train_Loss: 1.501, Test_Loss: 1.678\n",
      "Epoch 081: Train_Loss: 1.500, Test_Loss: 1.678\n",
      "Epoch 082: Train_Loss: 1.500, Test_Loss: 1.678\n",
      "Epoch 083: Train_Loss: 1.500, Test_Loss: 1.678\n",
      "Epoch 084: Train_Loss: 1.500, Test_Loss: 1.677\n",
      "Epoch 085: Train_Loss: 1.499, Test_Loss: 1.677\n",
      "Epoch 086: Train_Loss: 1.499, Test_Loss: 1.677\n",
      "Epoch 087: Train_Loss: 1.499, Test_Loss: 1.677\n",
      "Epoch 088: Train_Loss: 1.498, Test_Loss: 1.677\n",
      "Epoch 089: Train_Loss: 1.498, Test_Loss: 1.676\n",
      "Epoch 090: Train_Loss: 1.497, Test_Loss: 1.676\n",
      "Epoch 091: Train_Loss: 1.497, Test_Loss: 1.676\n",
      "Epoch 092: Train_Loss: 1.497, Test_Loss: 1.676\n",
      "Epoch 093: Train_Loss: 1.497, Test_Loss: 1.675\n",
      "Epoch 094: Train_Loss: 1.496, Test_Loss: 1.675\n",
      "Epoch 095: Train_Loss: 1.496, Test_Loss: 1.675\n",
      "Epoch 096: Train_Loss: 1.495, Test_Loss: 1.675\n",
      "Epoch 097: Train_Loss: 1.495, Test_Loss: 1.675\n",
      "Epoch 098: Train_Loss: 1.495, Test_Loss: 1.674\n",
      "Epoch 099: Train_Loss: 1.494, Test_Loss: 1.674\n",
      "Epoch 100: Train_Loss: 1.494, Test_Loss: 1.674\n",
      "Epoch 101: Train_Loss: 1.494, Test_Loss: 1.674\n",
      "Epoch 102: Train_Loss: 1.494, Test_Loss: 1.673\n",
      "Epoch 103: Train_Loss: 1.493, Test_Loss: 1.673\n",
      "Epoch 104: Train_Loss: 1.493, Test_Loss: 1.673\n",
      "Epoch 105: Train_Loss: 1.493, Test_Loss: 1.673\n",
      "Epoch 106: Train_Loss: 1.493, Test_Loss: 1.673\n",
      "Epoch 107: Train_Loss: 1.492, Test_Loss: 1.673\n",
      "Epoch 108: Train_Loss: 1.492, Test_Loss: 1.672\n",
      "Epoch 109: Train_Loss: 1.492, Test_Loss: 1.673\n",
      "Epoch 110: Train_Loss: 1.492, Test_Loss: 1.673\n",
      "Epoch 111: Train_Loss: 1.492, Test_Loss: 1.673\n",
      "Epoch 112: Train_Loss: 1.492, Test_Loss: 1.675\n",
      "Epoch 113: Train_Loss: 1.493, Test_Loss: 1.676\n",
      "Epoch 114: Train_Loss: 1.493, Test_Loss: 1.677\n",
      "Epoch 115: Train_Loss: 1.493, Test_Loss: 1.674\n",
      "Epoch 116: Train_Loss: 1.492, Test_Loss: 1.673\n",
      "Epoch 117: Train_Loss: 1.492, Test_Loss: 1.671\n",
      "Epoch 118: Train_Loss: 1.491, Test_Loss: 1.671\n",
      "Epoch 119: Train_Loss: 1.490, Test_Loss: 1.670\n",
      "Epoch 120: Train_Loss: 1.489, Test_Loss: 1.670\n",
      "Epoch 121: Train_Loss: 1.489, Test_Loss: 1.670\n",
      "Epoch 122: Train_Loss: 1.489, Test_Loss: 1.671\n",
      "Epoch 123: Train_Loss: 1.488, Test_Loss: 1.670\n",
      "Epoch 124: Train_Loss: 1.488, Test_Loss: 1.670\n",
      "Epoch 125: Train_Loss: 1.488, Test_Loss: 1.670\n",
      "Epoch 126: Train_Loss: 1.487, Test_Loss: 1.669\n",
      "Epoch 127: Train_Loss: 1.487, Test_Loss: 1.669\n",
      "Epoch 128: Train_Loss: 1.486, Test_Loss: 1.669\n",
      "Epoch 129: Train_Loss: 1.486, Test_Loss: 1.669\n",
      "Epoch 130: Train_Loss: 1.486, Test_Loss: 1.669\n",
      "Epoch 131: Train_Loss: 1.486, Test_Loss: 1.669\n",
      "Epoch 132: Train_Loss: 1.485, Test_Loss: 1.669\n",
      "Epoch 133: Train_Loss: 1.485, Test_Loss: 1.669\n",
      "Epoch 134: Train_Loss: 1.485, Test_Loss: 1.669\n",
      "Epoch 135: Train_Loss: 1.484, Test_Loss: 1.668\n",
      "Epoch 136: Train_Loss: 1.484, Test_Loss: 1.668\n",
      "Epoch 137: Train_Loss: 1.484, Test_Loss: 1.668\n",
      "Epoch 138: Train_Loss: 1.483, Test_Loss: 1.668\n",
      "Epoch 139: Train_Loss: 1.483, Test_Loss: 1.668\n",
      "Epoch 140: Train_Loss: 1.483, Test_Loss: 1.668\n",
      "Epoch 141: Train_Loss: 1.483, Test_Loss: 1.668\n",
      "Epoch 142: Train_Loss: 1.482, Test_Loss: 1.668\n",
      "Epoch 143: Train_Loss: 1.482, Test_Loss: 1.667\n",
      "Epoch 144: Train_Loss: 1.482, Test_Loss: 1.667\n",
      "Epoch 145: Train_Loss: 1.482, Test_Loss: 1.667\n",
      "Epoch 146: Train_Loss: 1.481, Test_Loss: 1.667\n",
      "Epoch 147: Train_Loss: 1.481, Test_Loss: 1.667\n",
      "Epoch 148: Train_Loss: 1.481, Test_Loss: 1.667\n",
      "Epoch 149: Train_Loss: 1.481, Test_Loss: 1.667\n",
      "Epoch 150: Train_Loss: 1.480, Test_Loss: 1.667\n",
      "Epoch 151: Train_Loss: 1.480, Test_Loss: 1.667\n",
      "Epoch 152: Train_Loss: 1.480, Test_Loss: 1.668\n",
      "Epoch 153: Train_Loss: 1.480, Test_Loss: 1.668\n",
      "Epoch 154: Train_Loss: 1.480, Test_Loss: 1.668\n",
      "Epoch 155: Train_Loss: 1.480, Test_Loss: 1.668\n",
      "Epoch 156: Train_Loss: 1.479, Test_Loss: 1.668\n",
      "Epoch 157: Train_Loss: 1.479, Test_Loss: 1.668\n",
      "Epoch 158: Train_Loss: 1.479, Test_Loss: 1.668\n",
      "Epoch 159: Train_Loss: 1.479, Test_Loss: 1.668\n",
      "Epoch 160: Train_Loss: 1.478, Test_Loss: 1.668\n",
      "Epoch 161: Train_Loss: 1.478, Test_Loss: 1.668\n",
      "Epoch 162: Train_Loss: 1.478, Test_Loss: 1.667\n",
      "Epoch 163: Train_Loss: 1.478, Test_Loss: 1.667\n",
      "Epoch 164: Train_Loss: 1.478, Test_Loss: 1.666\n",
      "Epoch 165: Train_Loss: 1.477, Test_Loss: 1.666\n",
      "Epoch 166: Train_Loss: 1.477, Test_Loss: 1.666\n",
      "Epoch 167: Train_Loss: 1.477, Test_Loss: 1.664\n",
      "Epoch 168: Train_Loss: 1.477, Test_Loss: 1.665\n",
      "Epoch 169: Train_Loss: 1.477, Test_Loss: 1.664\n",
      "Epoch 170: Train_Loss: 1.476, Test_Loss: 1.664\n",
      "Epoch 171: Train_Loss: 1.476, Test_Loss: 1.663\n",
      "Epoch 172: Train_Loss: 1.476, Test_Loss: 1.663\n",
      "Epoch 173: Train_Loss: 1.475, Test_Loss: 1.663\n"
     ]
    },
    {
     "name": "stdout",
     "output_type": "stream",
     "text": [
      "Epoch 174: Train_Loss: 1.475, Test_Loss: 1.663\n",
      "Epoch 175: Train_Loss: 1.475, Test_Loss: 1.661\n",
      "Epoch 176: Train_Loss: 1.475, Test_Loss: 1.661\n",
      "Epoch 177: Train_Loss: 1.475, Test_Loss: 1.661\n",
      "Epoch 178: Train_Loss: 1.475, Test_Loss: 1.661\n",
      "Epoch 179: Train_Loss: 1.475, Test_Loss: 1.661\n",
      "Epoch 180: Train_Loss: 1.474, Test_Loss: 1.661\n",
      "Epoch 181: Train_Loss: 1.474, Test_Loss: 1.661\n",
      "Epoch 182: Train_Loss: 1.474, Test_Loss: 1.661\n",
      "Epoch 183: Train_Loss: 1.474, Test_Loss: 1.661\n",
      "Epoch 184: Train_Loss: 1.473, Test_Loss: 1.661\n",
      "Epoch 185: Train_Loss: 1.473, Test_Loss: 1.661\n",
      "Epoch 186: Train_Loss: 1.472, Test_Loss: 1.661\n",
      "Epoch 187: Train_Loss: 1.472, Test_Loss: 1.661\n",
      "Epoch 188: Train_Loss: 1.472, Test_Loss: 1.661\n",
      "Epoch 189: Train_Loss: 1.471, Test_Loss: 1.661\n",
      "Epoch 190: Train_Loss: 1.471, Test_Loss: 1.662\n",
      "Epoch 191: Train_Loss: 1.471, Test_Loss: 1.662\n",
      "Epoch 192: Train_Loss: 1.471, Test_Loss: 1.661\n",
      "Epoch 193: Train_Loss: 1.471, Test_Loss: 1.661\n",
      "Epoch 194: Train_Loss: 1.471, Test_Loss: 1.661\n",
      "Epoch 195: Train_Loss: 1.470, Test_Loss: 1.662\n",
      "Epoch 196: Train_Loss: 1.470, Test_Loss: 1.661\n",
      "Epoch 197: Train_Loss: 1.470, Test_Loss: 1.661\n",
      "Epoch 198: Train_Loss: 1.470, Test_Loss: 1.661\n",
      "Epoch 199: Train_Loss: 1.470, Test_Loss: 1.661\n"
     ]
    }
   ],
   "source": [
    "\n",
    "epoch = 200\n",
    "net.load_weights('stage1_version2_BS32')\n",
    "train_loss_list = []\n",
    "test_loss_list = []\n",
    "prev_test_loss = test(net, test_dataset)\n",
    "print(prev_test_loss)\n",
    "for i in range(epoch):\n",
    "    total_loss = 0\n",
    "    counter = 0\n",
    "    for data in train_dataset:\n",
    "        example = tf.cast(data, tf.float32)\n",
    "        loss, grads = train_step(net, example, opt)\n",
    "        total_loss = (total_loss*counter + loss)/(counter + 1)\n",
    "        counter += 1\n",
    "        opt.apply_gradients(zip(grads, net.trainable_variables))\n",
    "        \n",
    "    test_loss = test(net, test_dataset)\n",
    "    print(\"Epoch {:03d}: Train_Loss: {:.3f}, Test_Loss: {:.3f}\".format(i, total_loss, test_loss))\n",
    "    train_loss_list.append(total_loss)\n",
    "    test_loss_list.append(test_loss)\n",
    "    if test_loss < prev_test_loss:\n",
    "        net.save_weights('stage1_version2_BS32')\n",
    "        prev_test_loss = test_loss\n",
    "    "
   ]
  },
  {
   "cell_type": "code",
   "execution_count": null,
   "metadata": {},
   "outputs": [],
   "source": []
  },
  {
   "cell_type": "code",
   "execution_count": 21,
   "metadata": {},
   "outputs": [
    {
     "name": "stdout",
     "output_type": "stream",
     "text": [
      "tf.Tensor(1.6607585, shape=(), dtype=float32)\n"
     ]
    }
   ],
   "source": [
    "net.load_weights('stage1_version2_BS32')\n",
    "prev_test_loss = test(net, test_dataset)\n",
    "print(prev_test_loss)\n",
    "em = tf.constant(test_data[10].reshape(1,64,64,1))\n",
    "ps = net(tf.cast(em,dtype=tf.float32))\n",
    "\n",
    "ps = (ps.numpy()).reshape(64,64)\n",
    "em = test_data[10].reshape(64,64)\n",
    "ps[ps>1]=1\n",
    "ps[ps<=0.01]=0\n",
    "# ps[ps>=0.6] = 1\n",
    "# ps[ps<0.6] = 0"
   ]
  },
  {
   "cell_type": "code",
   "execution_count": 22,
   "metadata": {},
   "outputs": [
    {
     "data": {
      "text/plain": [
       "<matplotlib.image.AxesImage at 0x7f8f9c381d50>"
      ]
     },
     "execution_count": 22,
     "metadata": {},
     "output_type": "execute_result"
    },
    {
     "data": {
      "image/png": "[encoded data removed]",
      "text/plain": [
       "<Figure size 432x288 with 1 Axes>"
      ]
     },
     "metadata": {
      "needs_background": "light"
     },
     "output_type": "display_data"
    }
   ],
   "source": [
    "plt.imshow(em)"
   ]
  },
  {
   "cell_type": "code",
   "execution_count": 23,
   "metadata": {},
   "outputs": [
    {
     "data": {
      "text/plain": [
       "<matplotlib.image.AxesImage at 0x7f8f9c36fbd0>"
      ]
     },
     "execution_count": 23,
     "metadata": {},
     "output_type": "execute_result"
    },
    {
     "data": {
      "image/png": "[encoded data removed]",
      "text/plain": [
       "<Figure size 432x288 with 1 Axes>"
      ]
     },
     "metadata": {
      "needs_background": "light"
     },
     "output_type": "display_data"
    }
   ],
   "source": [
    "plt.imshow(ps)"
   ]
  },
  {
   "cell_type": "code",
   "execution_count": 13,
   "metadata": {},
   "outputs": [],
   "source": [
    "\n",
    "net.save_weights('stage1.tf')"
   ]
  },
  {
   "cell_type": "code",
   "execution_count": 14,
   "metadata": {},
   "outputs": [
    {
     "ename": "ValueError",
     "evalue": "Shapes (64, 1) and (256, 64) are incompatible",
     "output_type": "error",
     "traceback": [
      "\u001b[0;31m---------------------------------------------------------------------------\u001b[0m",
      "\u001b[0;31mValueError\u001b[0m                                Traceback (most recent call last)",
      "\u001b[0;32m<ipython-input-14-5c252de03adc>\u001b[0m in \u001b[0;36m<module>\u001b[0;34m\u001b[0m\n\u001b[0;32m----> 1\u001b[0;31m \u001b[0mnet\u001b[0m\u001b[0;34m.\u001b[0m\u001b[0mload_weights\u001b[0m\u001b[0;34m(\u001b[0m\u001b[0;34m'stage1.h5'\u001b[0m\u001b[0;34m)\u001b[0m\u001b[0;34m\u001b[0m\u001b[0;34m\u001b[0m\u001b[0m\n\u001b[0m",
      "\u001b[0;32m~/anaconda3/lib/python3.7/site-packages/tensorflow_core/python/keras/engine/training.py\u001b[0m in \u001b[0;36mload_weights\u001b[0;34m(self, filepath, by_name, skip_mismatch)\u001b[0m\n\u001b[1;32m    232\u001b[0m         raise ValueError('Load weights is not yet supported with TPUStrategy '\n\u001b[1;32m    233\u001b[0m                          'with steps_per_run greater than 1.')\n\u001b[0;32m--> 234\u001b[0;31m     \u001b[0;32mreturn\u001b[0m \u001b[0msuper\u001b[0m\u001b[0;34m(\u001b[0m\u001b[0mModel\u001b[0m\u001b[0;34m,\u001b[0m \u001b[0mself\u001b[0m\u001b[0;34m)\u001b[0m\u001b[0;34m.\u001b[0m\u001b[0mload_weights\u001b[0m\u001b[0;34m(\u001b[0m\u001b[0mfilepath\u001b[0m\u001b[0;34m,\u001b[0m \u001b[0mby_name\u001b[0m\u001b[0;34m,\u001b[0m \u001b[0mskip_mismatch\u001b[0m\u001b[0;34m)\u001b[0m\u001b[0;34m\u001b[0m\u001b[0;34m\u001b[0m\u001b[0m\n\u001b[0m\u001b[1;32m    235\u001b[0m \u001b[0;34m\u001b[0m\u001b[0m\n\u001b[1;32m    236\u001b[0m   \u001b[0;34m@\u001b[0m\u001b[0mtrackable\u001b[0m\u001b[0;34m.\u001b[0m\u001b[0mno_automatic_dependency_tracking\u001b[0m\u001b[0;34m\u001b[0m\u001b[0;34m\u001b[0m\u001b[0m\n",
      "\u001b[0;32m~/anaconda3/lib/python3.7/site-packages/tensorflow_core/python/keras/engine/network.py\u001b[0m in \u001b[0;36mload_weights\u001b[0;34m(self, filepath, by_name, skip_mismatch)\u001b[0m\n\u001b[1;32m   1220\u001b[0m             f, self.layers, skip_mismatch=skip_mismatch)\n\u001b[1;32m   1221\u001b[0m       \u001b[0;32melse\u001b[0m\u001b[0;34m:\u001b[0m\u001b[0;34m\u001b[0m\u001b[0;34m\u001b[0m\u001b[0m\n\u001b[0;32m-> 1222\u001b[0;31m         \u001b[0mhdf5_format\u001b[0m\u001b[0;34m.\u001b[0m\u001b[0mload_weights_from_hdf5_group\u001b[0m\u001b[0;34m(\u001b[0m\u001b[0mf\u001b[0m\u001b[0;34m,\u001b[0m \u001b[0mself\u001b[0m\u001b[0;34m.\u001b[0m\u001b[0mlayers\u001b[0m\u001b[0;34m)\u001b[0m\u001b[0;34m\u001b[0m\u001b[0;34m\u001b[0m\u001b[0m\n\u001b[0m\u001b[1;32m   1223\u001b[0m \u001b[0;34m\u001b[0m\u001b[0m\n\u001b[1;32m   1224\u001b[0m   \u001b[0;32mdef\u001b[0m \u001b[0m_updated_config\u001b[0m\u001b[0;34m(\u001b[0m\u001b[0mself\u001b[0m\u001b[0;34m)\u001b[0m\u001b[0;34m:\u001b[0m\u001b[0;34m\u001b[0m\u001b[0;34m\u001b[0m\u001b[0m\n",
      "\u001b[0;32m~/anaconda3/lib/python3.7/site-packages/tensorflow_core/python/keras/saving/hdf5_format.py\u001b[0m in \u001b[0;36mload_weights_from_hdf5_group\u001b[0;34m(f, layers)\u001b[0m\n\u001b[1;32m    697\u001b[0m                        str(len(weight_values)) + ' elements.')\n\u001b[1;32m    698\u001b[0m     \u001b[0mweight_value_tuples\u001b[0m \u001b[0;34m+=\u001b[0m \u001b[0mzip\u001b[0m\u001b[0;34m(\u001b[0m\u001b[0msymbolic_weights\u001b[0m\u001b[0;34m,\u001b[0m \u001b[0mweight_values\u001b[0m\u001b[0;34m)\u001b[0m\u001b[0;34m\u001b[0m\u001b[0;34m\u001b[0m\u001b[0m\n\u001b[0;32m--> 699\u001b[0;31m   \u001b[0mK\u001b[0m\u001b[0;34m.\u001b[0m\u001b[0mbatch_set_value\u001b[0m\u001b[0;34m(\u001b[0m\u001b[0mweight_value_tuples\u001b[0m\u001b[0;34m)\u001b[0m\u001b[0;34m\u001b[0m\u001b[0;34m\u001b[0m\u001b[0m\n\u001b[0m\u001b[1;32m    700\u001b[0m \u001b[0;34m\u001b[0m\u001b[0m\n\u001b[1;32m    701\u001b[0m \u001b[0;34m\u001b[0m\u001b[0m\n",
      "\u001b[0;32m~/anaconda3/lib/python3.7/site-packages/tensorflow_core/python/keras/backend.py\u001b[0m in \u001b[0;36mbatch_set_value\u001b[0;34m(tuples)\u001b[0m\n\u001b[1;32m   3321\u001b[0m     \u001b[0;32mwith\u001b[0m \u001b[0mops\u001b[0m\u001b[0;34m.\u001b[0m\u001b[0minit_scope\u001b[0m\u001b[0;34m(\u001b[0m\u001b[0;34m)\u001b[0m\u001b[0;34m:\u001b[0m\u001b[0;34m\u001b[0m\u001b[0;34m\u001b[0m\u001b[0m\n\u001b[1;32m   3322\u001b[0m       \u001b[0;32mfor\u001b[0m \u001b[0mx\u001b[0m\u001b[0;34m,\u001b[0m \u001b[0mvalue\u001b[0m \u001b[0;32min\u001b[0m \u001b[0mtuples\u001b[0m\u001b[0;34m:\u001b[0m\u001b[0;34m\u001b[0m\u001b[0;34m\u001b[0m\u001b[0m\n\u001b[0;32m-> 3323\u001b[0;31m         \u001b[0mx\u001b[0m\u001b[0;34m.\u001b[0m\u001b[0massign\u001b[0m\u001b[0;34m(\u001b[0m\u001b[0mnp\u001b[0m\u001b[0;34m.\u001b[0m\u001b[0masarray\u001b[0m\u001b[0;34m(\u001b[0m\u001b[0mvalue\u001b[0m\u001b[0;34m,\u001b[0m \u001b[0mdtype\u001b[0m\u001b[0;34m=\u001b[0m\u001b[0mdtype\u001b[0m\u001b[0;34m(\u001b[0m\u001b[0mx\u001b[0m\u001b[0;34m)\u001b[0m\u001b[0;34m)\u001b[0m\u001b[0;34m)\u001b[0m\u001b[0;34m\u001b[0m\u001b[0;34m\u001b[0m\u001b[0m\n\u001b[0m\u001b[1;32m   3324\u001b[0m   \u001b[0;32melse\u001b[0m\u001b[0;34m:\u001b[0m\u001b[0;34m\u001b[0m\u001b[0;34m\u001b[0m\u001b[0m\n\u001b[1;32m   3325\u001b[0m     \u001b[0;32mwith\u001b[0m \u001b[0mget_graph\u001b[0m\u001b[0;34m(\u001b[0m\u001b[0;34m)\u001b[0m\u001b[0;34m.\u001b[0m\u001b[0mas_default\u001b[0m\u001b[0;34m(\u001b[0m\u001b[0;34m)\u001b[0m\u001b[0;34m:\u001b[0m\u001b[0;34m\u001b[0m\u001b[0;34m\u001b[0m\u001b[0m\n",
      "\u001b[0;32m~/anaconda3/lib/python3.7/site-packages/tensorflow_core/python/ops/resource_variable_ops.py\u001b[0m in \u001b[0;36massign\u001b[0;34m(self, value, use_locking, name, read_value)\u001b[0m\n\u001b[1;32m    817\u001b[0m     \u001b[0;32mwith\u001b[0m \u001b[0m_handle_graph\u001b[0m\u001b[0;34m(\u001b[0m\u001b[0mself\u001b[0m\u001b[0;34m.\u001b[0m\u001b[0mhandle\u001b[0m\u001b[0;34m)\u001b[0m\u001b[0;34m:\u001b[0m\u001b[0;34m\u001b[0m\u001b[0;34m\u001b[0m\u001b[0m\n\u001b[1;32m    818\u001b[0m       \u001b[0mvalue_tensor\u001b[0m \u001b[0;34m=\u001b[0m \u001b[0mops\u001b[0m\u001b[0;34m.\u001b[0m\u001b[0mconvert_to_tensor\u001b[0m\u001b[0;34m(\u001b[0m\u001b[0mvalue\u001b[0m\u001b[0;34m,\u001b[0m \u001b[0mdtype\u001b[0m\u001b[0;34m=\u001b[0m\u001b[0mself\u001b[0m\u001b[0;34m.\u001b[0m\u001b[0mdtype\u001b[0m\u001b[0;34m)\u001b[0m\u001b[0;34m\u001b[0m\u001b[0;34m\u001b[0m\u001b[0m\n\u001b[0;32m--> 819\u001b[0;31m       \u001b[0mself\u001b[0m\u001b[0;34m.\u001b[0m\u001b[0m_shape\u001b[0m\u001b[0;34m.\u001b[0m\u001b[0massert_is_compatible_with\u001b[0m\u001b[0;34m(\u001b[0m\u001b[0mvalue_tensor\u001b[0m\u001b[0;34m.\u001b[0m\u001b[0mshape\u001b[0m\u001b[0;34m)\u001b[0m\u001b[0;34m\u001b[0m\u001b[0;34m\u001b[0m\u001b[0m\n\u001b[0m\u001b[1;32m    820\u001b[0m       assign_op = gen_resource_variable_ops.assign_variable_op(\n\u001b[1;32m    821\u001b[0m           self.handle, value_tensor, name=name)\n",
      "\u001b[0;32m~/anaconda3/lib/python3.7/site-packages/tensorflow_core/python/framework/tensor_shape.py\u001b[0m in \u001b[0;36massert_is_compatible_with\u001b[0;34m(self, other)\u001b[0m\n\u001b[1;32m   1108\u001b[0m     \"\"\"\n\u001b[1;32m   1109\u001b[0m     \u001b[0;32mif\u001b[0m \u001b[0;32mnot\u001b[0m \u001b[0mself\u001b[0m\u001b[0;34m.\u001b[0m\u001b[0mis_compatible_with\u001b[0m\u001b[0;34m(\u001b[0m\u001b[0mother\u001b[0m\u001b[0;34m)\u001b[0m\u001b[0;34m:\u001b[0m\u001b[0;34m\u001b[0m\u001b[0;34m\u001b[0m\u001b[0m\n\u001b[0;32m-> 1110\u001b[0;31m       \u001b[0;32mraise\u001b[0m \u001b[0mValueError\u001b[0m\u001b[0;34m(\u001b[0m\u001b[0;34m\"Shapes %s and %s are incompatible\"\u001b[0m \u001b[0;34m%\u001b[0m \u001b[0;34m(\u001b[0m\u001b[0mself\u001b[0m\u001b[0;34m,\u001b[0m \u001b[0mother\u001b[0m\u001b[0;34m)\u001b[0m\u001b[0;34m)\u001b[0m\u001b[0;34m\u001b[0m\u001b[0;34m\u001b[0m\u001b[0m\n\u001b[0m\u001b[1;32m   1111\u001b[0m \u001b[0;34m\u001b[0m\u001b[0m\n\u001b[1;32m   1112\u001b[0m   \u001b[0;32mdef\u001b[0m \u001b[0mmost_specific_compatible_shape\u001b[0m\u001b[0;34m(\u001b[0m\u001b[0mself\u001b[0m\u001b[0;34m,\u001b[0m \u001b[0mother\u001b[0m\u001b[0;34m)\u001b[0m\u001b[0;34m:\u001b[0m\u001b[0;34m\u001b[0m\u001b[0;34m\u001b[0m\u001b[0m\n",
      "\u001b[0;31mValueError\u001b[0m: Shapes (64, 1) and (256, 64) are incompatible"
     ]
    }
   ],
   "source": [
    "net.load_weights('stage1.h5')"
   ]
  },
  {
   "cell_type": "code",
   "execution_count": null,
   "metadata": {},
   "outputs": [],
   "source": []
  }
 ],
 "metadata": {
  "kernelspec": {
   "display_name": "Python 3",
   "language": "python",
   "name": "python3"
  },
  "language_info": {
   "codemirror_mode": {
    "name": "ipython",
    "version": 3
   },
   "file_extension": ".py",
   "mimetype": "text/x-python",
   "name": "python",
   "nbconvert_exporter": "python",
   "pygments_lexer": "ipython3",
   "version": "3.7.6"
  }
 },
 "nbformat": 4,
 "nbformat_minor": 4
}
