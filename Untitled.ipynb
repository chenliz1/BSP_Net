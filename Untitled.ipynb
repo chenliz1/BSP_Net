{
 "cells": [
  {
   "cell_type": "code",
   "execution_count": 1,
   "metadata": {},
   "outputs": [],
   "source": [
    "from __future__ import absolute_import, division, print_function, unicode_literals\n",
    "import os\n",
    "import h5py\n",
    "import numpy as np  \n",
    "import tensorflow as tf\n",
    "from tensorflow import keras\n",
    "import matplotlib.pyplot as plt\n",
    "from bspnet2D import BspNet2D\n",
    "from loss_func import stage1_loss, rec_loss\n",
    "batchsize = 32\n",
    "epoch = 100"
   ]
  },
  {
   "cell_type": "code",
   "execution_count": 2,
   "metadata": {},
   "outputs": [
    {
     "name": "stdout",
     "output_type": "stream",
     "text": [
      "Keys: <KeysViewHDF5 ['pixels']>\n",
      "Keys: <KeysViewHDF5 ['pixels']>\n"
     ]
    }
   ],
   "source": [
    "with h5py.File('complex_elements.hdf5', 'r') as f:\n",
    "    # List all groups\n",
    "    print(\"Keys: %s\" % f.keys())\n",
    "    a_group_key = list(f.keys())[0]\n",
    "\n",
    "    # Get the data\n",
    "    data = list(f[a_group_key])\n",
    "    \n",
    "    \n",
    "with h5py.File('complex_elements_test.hdf5', 'r') as f:\n",
    "    # List all groups\n",
    "    print(\"Keys: %s\" % f.keys())\n",
    "    a_group_key = list(f.keys())[0]\n",
    "\n",
    "    # Get the data\n",
    "    test_data = list(f[a_group_key])\n",
    "    "
   ]
  },
  {
   "cell_type": "code",
   "execution_count": 3,
   "metadata": {},
   "outputs": [
    {
     "name": "stdout",
     "output_type": "stream",
     "text": [
      "Training Dataset Length: 2000\n",
      "Testing Dataset Length: 500\n"
     ]
    }
   ],
   "source": [
    "print(\"Training Dataset Length: %d\" % len(data))\n",
    "print(\"Testing Dataset Length: %d\" % len(test_data))\n",
    "train_dataset = tf.data.Dataset.from_tensor_slices(data).batch(batchsize)\n",
    "test_dataset = tf.data.Dataset.from_tensor_slices(test_data).batch(batchsize)"
   ]
  },
  {
   "cell_type": "code",
   "execution_count": 4,
   "metadata": {},
   "outputs": [],
   "source": [
    "net = BspNet2D(batchsize)"
   ]
  },
  {
   "cell_type": "code",
   "execution_count": 5,
   "metadata": {},
   "outputs": [],
   "source": [
    "def train_step(net, example, optimizer):\n",
    "    with tf.GradientTape() as tape:\n",
    "        output = net(example)\n",
    "        F = tf.reshape(example, [-1, 64*64, 1])\n",
    "        loss = stage1_loss(output, F, net.decoder.L2.weight, net.decoder.L3.weight) \n",
    "    return loss, tape.gradient(loss, net.trainable_variables)"
   ]
  },
  {
   "cell_type": "code",
   "execution_count": 6,
   "metadata": {},
   "outputs": [],
   "source": [
    "opt = tf.keras.optimizers.SGD(0.001)"
   ]
  },
  {
   "cell_type": "code",
   "execution_count": 7,
   "metadata": {},
   "outputs": [],
   "source": [
    "\n",
    "            \n",
    "def test(net, test_ds):\n",
    "    total_loss = 0\n",
    "    for data in test_ds:\n",
    "        example = tf.cast(data, tf.float32)\n",
    "        F = tf.reshape(example, [-1, 64*64, 1])\n",
    "        S = net(example)\n",
    "        loss = rec_loss(S, F)\n",
    "        total_loss += loss\n",
    "    return total_loss/len(test_data)\n",
    "            "
   ]
  },
  {
   "cell_type": "code",
   "execution_count": 8,
   "metadata": {},
   "outputs": [
    {
     "name": "stdout",
     "output_type": "stream",
     "text": [
      "tf.Tensor(0.2866123, shape=(), dtype=float32)\n",
      "Epoch 000: Train_Loss: 41.758, Test_Loss: 0.167\n",
      "Epoch 001: Train_Loss: 24.413, Test_Loss: 0.161\n",
      "Epoch 002: Train_Loss: 24.093, Test_Loss: 0.158\n",
      "Epoch 003: Train_Loss: 23.778, Test_Loss: 0.157\n",
      "Epoch 004: Train_Loss: 23.478, Test_Loss: 0.154\n",
      "Epoch 005: Train_Loss: 23.255, Test_Loss: 0.153\n",
      "Epoch 006: Train_Loss: 23.083, Test_Loss: 0.153\n",
      "Epoch 007: Train_Loss: 22.962, Test_Loss: 0.151\n",
      "Epoch 008: Train_Loss: 22.822, Test_Loss: 0.151\n",
      "Epoch 009: Train_Loss: 22.859, Test_Loss: 0.150\n",
      "Epoch 010: Train_Loss: 22.745, Test_Loss: 0.150\n",
      "Epoch 011: Train_Loss: 22.665, Test_Loss: 0.149\n",
      "Epoch 012: Train_Loss: 22.646, Test_Loss: 0.149\n",
      "Epoch 013: Train_Loss: 22.564, Test_Loss: 0.149\n",
      "Epoch 014: Train_Loss: 22.568, Test_Loss: 0.148\n",
      "Epoch 015: Train_Loss: 22.507, Test_Loss: 0.148\n",
      "Epoch 016: Train_Loss: 22.505, Test_Loss: 0.148\n",
      "Epoch 017: Train_Loss: 22.465, Test_Loss: 0.148\n",
      "Epoch 018: Train_Loss: 22.403, Test_Loss: 0.148\n",
      "Epoch 019: Train_Loss: 22.337, Test_Loss: 0.148\n",
      "Epoch 020: Train_Loss: 22.345, Test_Loss: 0.147\n",
      "Epoch 021: Train_Loss: 22.258, Test_Loss: 0.147\n",
      "Epoch 022: Train_Loss: 22.260, Test_Loss: 0.147\n",
      "Epoch 023: Train_Loss: 22.290, Test_Loss: 0.147\n",
      "Epoch 024: Train_Loss: 22.211, Test_Loss: 0.147\n",
      "Epoch 025: Train_Loss: 22.254, Test_Loss: 0.146\n",
      "Epoch 026: Train_Loss: 22.206, Test_Loss: 0.146\n",
      "Epoch 027: Train_Loss: 22.186, Test_Loss: 0.146\n",
      "Epoch 028: Train_Loss: 22.157, Test_Loss: 0.146\n",
      "Epoch 029: Train_Loss: 22.134, Test_Loss: 0.146\n",
      "Epoch 030: Train_Loss: 22.126, Test_Loss: 0.145\n",
      "Epoch 031: Train_Loss: 22.118, Test_Loss: 0.145\n",
      "Epoch 032: Train_Loss: 22.160, Test_Loss: 0.146\n",
      "Epoch 033: Train_Loss: 22.137, Test_Loss: 0.145\n",
      "Epoch 034: Train_Loss: 22.142, Test_Loss: 0.145\n",
      "Epoch 035: Train_Loss: 22.087, Test_Loss: 0.145\n",
      "Epoch 036: Train_Loss: 22.062, Test_Loss: 0.146\n",
      "Epoch 037: Train_Loss: 21.972, Test_Loss: 0.143\n",
      "Epoch 038: Train_Loss: 22.019, Test_Loss: 0.143\n",
      "Epoch 039: Train_Loss: 22.051, Test_Loss: 0.143\n",
      "Epoch 040: Train_Loss: 21.902, Test_Loss: 0.142\n",
      "Epoch 041: Train_Loss: 21.891, Test_Loss: 0.142\n",
      "Epoch 042: Train_Loss: 21.825, Test_Loss: 0.141\n",
      "Epoch 043: Train_Loss: 21.760, Test_Loss: 0.141\n",
      "Epoch 044: Train_Loss: 21.694, Test_Loss: 0.139\n",
      "Epoch 045: Train_Loss: 21.603, Test_Loss: 0.139\n",
      "Epoch 046: Train_Loss: 21.533, Test_Loss: 0.139\n",
      "Epoch 047: Train_Loss: 21.532, Test_Loss: 0.137\n",
      "Epoch 048: Train_Loss: 21.450, Test_Loss: 0.136\n",
      "Epoch 049: Train_Loss: 21.161, Test_Loss: 0.133\n",
      "Epoch 050: Train_Loss: 20.915, Test_Loss: 0.134\n",
      "Epoch 051: Train_Loss: 20.530, Test_Loss: 0.128\n",
      "Epoch 052: Train_Loss: 20.068, Test_Loss: 0.123\n",
      "Epoch 053: Train_Loss: 19.705, Test_Loss: 0.118\n",
      "Epoch 054: Train_Loss: 19.420, Test_Loss: 0.115\n",
      "Epoch 055: Train_Loss: 19.127, Test_Loss: 0.112\n",
      "Epoch 056: Train_Loss: 18.879, Test_Loss: 0.111\n",
      "Epoch 057: Train_Loss: 18.764, Test_Loss: 0.109\n",
      "Epoch 058: Train_Loss: 18.595, Test_Loss: 0.108\n",
      "Epoch 059: Train_Loss: 18.417, Test_Loss: 0.107\n",
      "Epoch 060: Train_Loss: 18.215, Test_Loss: 0.106\n",
      "Epoch 061: Train_Loss: 18.131, Test_Loss: 0.104\n",
      "Epoch 062: Train_Loss: 17.985, Test_Loss: 0.103\n",
      "Epoch 063: Train_Loss: 17.848, Test_Loss: 0.103\n",
      "Epoch 064: Train_Loss: 17.719, Test_Loss: 0.102\n",
      "Epoch 065: Train_Loss: 17.653, Test_Loss: 0.100\n",
      "Epoch 066: Train_Loss: 17.481, Test_Loss: 0.101\n",
      "Epoch 067: Train_Loss: 17.391, Test_Loss: 0.100\n",
      "Epoch 068: Train_Loss: 17.256, Test_Loss: 0.100\n",
      "Epoch 069: Train_Loss: 17.265, Test_Loss: 0.097\n",
      "Epoch 070: Train_Loss: 17.149, Test_Loss: 0.098\n",
      "Epoch 071: Train_Loss: 17.048, Test_Loss: 0.097\n",
      "Epoch 072: Train_Loss: 16.924, Test_Loss: 0.095\n",
      "Epoch 073: Train_Loss: 16.875, Test_Loss: 0.096\n",
      "Epoch 074: Train_Loss: 16.860, Test_Loss: 0.096\n",
      "Epoch 075: Train_Loss: 16.803, Test_Loss: 0.095\n",
      "Epoch 076: Train_Loss: 16.657, Test_Loss: 0.094\n",
      "Epoch 077: Train_Loss: 16.645, Test_Loss: 0.095\n",
      "Epoch 078: Train_Loss: 16.484, Test_Loss: 0.094\n",
      "Epoch 079: Train_Loss: 16.540, Test_Loss: 0.092\n",
      "Epoch 080: Train_Loss: 16.556, Test_Loss: 0.092\n",
      "Epoch 081: Train_Loss: 16.922, Test_Loss: 0.092\n",
      "Epoch 082: Train_Loss: 16.731, Test_Loss: 0.091\n",
      "Epoch 083: Train_Loss: 16.599, Test_Loss: 0.091\n",
      "Epoch 084: Train_Loss: 16.504, Test_Loss: 0.091\n",
      "Epoch 085: Train_Loss: 16.425, Test_Loss: 0.090\n",
      "Epoch 086: Train_Loss: 16.348, Test_Loss: 0.090\n",
      "Epoch 087: Train_Loss: 16.281, Test_Loss: 0.090\n",
      "Epoch 088: Train_Loss: 16.220, Test_Loss: 0.089\n",
      "Epoch 089: Train_Loss: 16.156, Test_Loss: 0.089\n",
      "Epoch 090: Train_Loss: 16.107, Test_Loss: 0.089\n",
      "Epoch 091: Train_Loss: 16.050, Test_Loss: 0.088\n",
      "Epoch 092: Train_Loss: 16.008, Test_Loss: 0.088\n",
      "Epoch 093: Train_Loss: 15.947, Test_Loss: 0.088\n",
      "Epoch 094: Train_Loss: 15.905, Test_Loss: 0.088\n",
      "Epoch 095: Train_Loss: 15.862, Test_Loss: 0.087\n",
      "Epoch 096: Train_Loss: 15.816, Test_Loss: 0.087\n",
      "Epoch 097: Train_Loss: 15.756, Test_Loss: 0.087\n",
      "Epoch 098: Train_Loss: 15.706, Test_Loss: 0.087\n",
      "Epoch 099: Train_Loss: 15.669, Test_Loss: 0.086\n"
     ]
    }
   ],
   "source": [
    "prev_test_loss = test(net, test_dataset)\n",
    "print(prev_test_loss)\n",
    "for i in range(epoch):\n",
    "    total_loss = 0\n",
    "    for data in train_dataset:\n",
    "        example = tf.cast(data, tf.float32)\n",
    "        loss, grads = train_step(net, example, opt)\n",
    "        total_loss += loss\n",
    "        opt.apply_gradients(zip(grads, net.trainable_variables))\n",
    "    \n",
    "    test_loss = test(net, test_dataset)\n",
    "    print(\"Epoch {:03d}: Train_Loss: {:.3f}, Test_Loss: {:.3f}\".format(i, total_loss/len(data), test_loss))\n",
    "    \n",
    "    if test_loss < prev_test_loss:\n",
    "        net.save_weights('easy_checkpoint')\n",
    "        prev_test_loss = test_loss\n",
    "    "
   ]
  },
  {
   "cell_type": "code",
   "execution_count": 9,
   "metadata": {},
   "outputs": [],
   "source": [
    "net.load_weights('easy_checkpoint')\n",
    "em = tf.constant(test_data[10].reshape(1,64,64,1))\n",
    "ps = net(tf.cast(em,dtype=tf.float32))\n",
    "\n",
    "ps = (ps.numpy()).reshape(64,64)\n",
    "em = test_data[10].reshape(64,64)\n"
   ]
  },
  {
   "cell_type": "code",
   "execution_count": 10,
   "metadata": {},
   "outputs": [
    {
     "data": {
      "text/plain": [
       "<matplotlib.image.AxesImage at 0x14a84bdd0>"
      ]
     },
     "execution_count": 10,
     "metadata": {},
     "output_type": "execute_result"
    },
    {
     "data": {
      "image/png": "[encoded data removed]",
      "text/plain": [
       "<Figure size 432x288 with 1 Axes>"
      ]
     },
     "metadata": {
      "needs_background": "light"
     },
     "output_type": "display_data"
    }
   ],
   "source": [
    "plt.imshow((ps))"
   ]
  },
  {
   "cell_type": "code",
   "execution_count": 11,
   "metadata": {},
   "outputs": [
    {
     "data": {
      "text/plain": [
       "array([[ 0.08195394,  0.08425164,  0.08013612, ...,  0.00732791,\n",
       "         0.01045826,  0.01293138],\n",
       "       [ 0.06919092,  0.07948834,  0.06775165, ...,  0.00687057,\n",
       "         0.01000094,  0.01120135],\n",
       "       [ 0.04604399,  0.07110572,  0.06610066, ...,  0.00624993,\n",
       "         0.00826439,  0.00939459],\n",
       "       ...,\n",
       "       [-0.00289275, -0.01634842, -0.03269396, ...,  0.00485474,\n",
       "        -0.00013226, -0.00498833],\n",
       "       [-0.00301449, -0.01647772, -0.03282326, ...,  0.00259279,\n",
       "        -0.00215679, -0.00580259],\n",
       "       [-0.0031362 , -0.01660699, -0.03295255, ...,  0.00044066,\n",
       "        -0.00416714, -0.00726949]], dtype=float32)"
      ]
     },
     "execution_count": 11,
     "metadata": {},
     "output_type": "execute_result"
    }
   ],
   "source": [
    "ps"
   ]
  },
  {
   "cell_type": "code",
   "execution_count": null,
   "metadata": {},
   "outputs": [],
   "source": []
  }
 ],
 "metadata": {
  "kernelspec": {
   "display_name": "Python 3",
   "language": "python",
   "name": "python3"
  },
  "language_info": {
   "codemirror_mode": {
    "name": "ipython",
    "version": 3
   },
   "file_extension": ".py",
   "mimetype": "text/x-python",
   "name": "python",
   "nbconvert_exporter": "python",
   "pygments_lexer": "ipython3",
   "version": "3.7.6"
  }
 },
 "nbformat": 4,
 "nbformat_minor": 4
}
