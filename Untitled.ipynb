{
 "cells": [
  {
   "cell_type": "code",
   "execution_count": 1,
   "metadata": {},
   "outputs": [],
   "source": [
    "from __future__ import absolute_import, division, print_function, unicode_literals\n",
    "import os\n",
    "import h5py\n",
    "import numpy as np  \n",
    "import tensorflow as tf\n",
    "from tensorflow import keras\n",
    "import matplotlib.pyplot as plt\n",
    "from bspnet2D import BspNet2D\n",
    "from loss_func import stage1_loss, rec_loss, stage2_loss\n",
    "from decoder2D import decoder2DStage2\n",
    "batchsize = 32\n",
    "epoch = 200"
   ]
  },
  {
   "cell_type": "code",
   "execution_count": 2,
   "metadata": {},
   "outputs": [
    {
     "name": "stdout",
     "output_type": "stream",
     "text": [
      "Keys: <KeysViewHDF5 ['pixels']>\n",
      "Keys: <KeysViewHDF5 ['pixels']>\n"
     ]
    }
   ],
   "source": [
    "with h5py.File('complex_elements.hdf5', 'r') as f:\n",
    "    # List all groups\n",
    "    print(\"Keys: %s\" % f.keys())\n",
    "    a_group_key = list(f.keys())[0]\n",
    "\n",
    "    # Get the data\n",
    "    data = list(f[a_group_key])\n",
    "    \n",
    "    \n",
    "with h5py.File('complex_elements_test.hdf5', 'r') as f:\n",
    "    # List all groups\n",
    "    print(\"Keys: %s\" % f.keys())\n",
    "    a_group_key = list(f.keys())[0]\n",
    "\n",
    "    # Get the data\n",
    "    test_data = list(f[a_group_key])\n",
    "    "
   ]
  },
  {
   "cell_type": "code",
   "execution_count": 3,
   "metadata": {},
   "outputs": [
    {
     "name": "stdout",
     "output_type": "stream",
     "text": [
      "Training Dataset Length: 2000\n",
      "Testing Dataset Length: 500\n"
     ]
    }
   ],
   "source": [
    "print(\"Training Dataset Length: %d\" % len(data))\n",
    "print(\"Testing Dataset Length: %d\" % len(test_data))\n",
    "train_dataset = tf.data.Dataset.from_tensor_slices(data).batch(batchsize)\n",
    "test_dataset = tf.data.Dataset.from_tensor_slices(test_data).batch(batchsize)"
   ]
  },
  {
   "cell_type": "code",
   "execution_count": 4,
   "metadata": {},
   "outputs": [],
   "source": [
    "net = BspNet2D(batchsize)"
   ]
  },
  {
   "cell_type": "code",
   "execution_count": 5,
   "metadata": {},
   "outputs": [],
   "source": [
    "def train_step(net, example, optimizer):\n",
    "    with tf.GradientTape() as tape:\n",
    "        output, _ = net(example)\n",
    "        F = tf.reshape(example, [-1, 64*64, 1])\n",
    "        loss = stage1_loss(output, F, net.decoder.L2.weight, net.decoder.L3.weight) \n",
    "    return loss, tape.gradient(loss, net.trainable_variables)"
   ]
  },
  {
   "cell_type": "code",
   "execution_count": 12,
   "metadata": {},
   "outputs": [],
   "source": [
    "opt = tf.keras.optimizers.Adam(0.00001)"
   ]
  },
  {
   "cell_type": "code",
   "execution_count": 7,
   "metadata": {},
   "outputs": [],
   "source": [
    "\n",
    "            \n",
    "def test(net, test_ds):\n",
    "    total_loss = 0\n",
    "    counter = 0\n",
    "    for data in test_ds:\n",
    "        example = tf.cast(data, tf.float32)\n",
    "        F = tf.reshape(example, [-1, 64*64, 1])\n",
    "        S,_ = net(example)\n",
    "        loss = stage1_loss(S, F, net.decoder.L2.weight, net.decoder.L3.weight) \n",
    "        total_loss = (total_loss*counter + loss)/(counter + 1)\n",
    "        counter += 1\n",
    "    return total_loss\n",
    "            "
   ]
  },
  {
   "cell_type": "code",
   "execution_count": 13,
   "metadata": {
    "scrolled": true
   },
   "outputs": [
    {
     "name": "stdout",
     "output_type": "stream",
     "text": [
      "tf.Tensor(169.93625, shape=(), dtype=float32)\n",
      "Epoch 000: Train_Loss: 142.112, Test_Loss: 159.143\n",
      "Epoch 001: Train_Loss: 139.721, Test_Loss: 158.781\n",
      "Epoch 002: Train_Loss: 139.113, Test_Loss: 158.571\n",
      "Epoch 003: Train_Loss: 138.658, Test_Loss: 158.388\n",
      "Epoch 004: Train_Loss: 138.249, Test_Loss: 158.169\n",
      "Epoch 005: Train_Loss: 137.876, Test_Loss: 157.994\n",
      "Epoch 006: Train_Loss: 137.554, Test_Loss: 157.851\n",
      "Epoch 007: Train_Loss: 137.241, Test_Loss: 157.643\n",
      "Epoch 008: Train_Loss: 136.928, Test_Loss: 157.438\n",
      "Epoch 009: Train_Loss: 136.647, Test_Loss: 157.267\n",
      "Epoch 010: Train_Loss: 136.388, Test_Loss: 157.086\n",
      "Epoch 011: Train_Loss: 136.138, Test_Loss: 156.937\n",
      "Epoch 012: Train_Loss: 135.896, Test_Loss: 156.755\n",
      "Epoch 013: Train_Loss: 135.644, Test_Loss: 156.601\n",
      "Epoch 014: Train_Loss: 135.406, Test_Loss: 156.465\n",
      "Epoch 015: Train_Loss: 135.167, Test_Loss: 156.291\n",
      "Epoch 016: Train_Loss: 134.944, Test_Loss: 156.156\n",
      "Epoch 017: Train_Loss: 134.721, Test_Loss: 156.020\n",
      "Epoch 018: Train_Loss: 134.501, Test_Loss: 155.876\n",
      "Epoch 019: Train_Loss: 134.290, Test_Loss: 155.763\n",
      "Epoch 020: Train_Loss: 134.079, Test_Loss: 155.624\n",
      "Epoch 021: Train_Loss: 133.886, Test_Loss: 155.511\n",
      "Epoch 022: Train_Loss: 133.680, Test_Loss: 155.396\n",
      "Epoch 023: Train_Loss: 133.493, Test_Loss: 155.270\n",
      "Epoch 024: Train_Loss: 133.195, Test_Loss: 154.601\n",
      "Epoch 025: Train_Loss: 132.486, Test_Loss: 154.071\n",
      "Epoch 026: Train_Loss: 132.017, Test_Loss: 153.706\n",
      "Epoch 027: Train_Loss: 131.658, Test_Loss: 153.397\n",
      "Epoch 028: Train_Loss: 131.368, Test_Loss: 153.142\n",
      "Epoch 029: Train_Loss: 131.056, Test_Loss: 152.925\n",
      "Epoch 030: Train_Loss: 130.799, Test_Loss: 152.721\n",
      "Epoch 031: Train_Loss: 130.550, Test_Loss: 152.523\n",
      "Epoch 032: Train_Loss: 130.313, Test_Loss: 152.351\n",
      "Epoch 033: Train_Loss: 130.085, Test_Loss: 152.175\n",
      "Epoch 034: Train_Loss: 129.856, Test_Loss: 152.024\n",
      "Epoch 035: Train_Loss: 129.641, Test_Loss: 151.864\n",
      "Epoch 036: Train_Loss: 129.424, Test_Loss: 151.713\n",
      "Epoch 037: Train_Loss: 129.232, Test_Loss: 151.564\n",
      "Epoch 038: Train_Loss: 129.025, Test_Loss: 151.409\n",
      "Epoch 039: Train_Loss: 128.835, Test_Loss: 151.281\n",
      "Epoch 040: Train_Loss: 128.630, Test_Loss: 151.161\n",
      "Epoch 041: Train_Loss: 128.442, Test_Loss: 151.072\n",
      "Epoch 042: Train_Loss: 128.255, Test_Loss: 150.952\n",
      "Epoch 043: Train_Loss: 128.056, Test_Loss: 150.824\n",
      "Epoch 044: Train_Loss: 127.875, Test_Loss: 150.710\n",
      "Epoch 045: Train_Loss: 127.698, Test_Loss: 150.576\n",
      "Epoch 046: Train_Loss: 127.506, Test_Loss: 150.444\n",
      "Epoch 047: Train_Loss: 127.330, Test_Loss: 150.304\n",
      "Epoch 048: Train_Loss: 127.141, Test_Loss: 150.189\n",
      "Epoch 049: Train_Loss: 126.967, Test_Loss: 150.037\n",
      "Epoch 050: Train_Loss: 126.785, Test_Loss: 149.908\n",
      "Epoch 051: Train_Loss: 126.605, Test_Loss: 149.768\n",
      "Epoch 052: Train_Loss: 126.432, Test_Loss: 149.679\n",
      "Epoch 053: Train_Loss: 126.260, Test_Loss: 149.545\n",
      "Epoch 054: Train_Loss: 126.092, Test_Loss: 149.437\n",
      "Epoch 055: Train_Loss: 125.930, Test_Loss: 149.312\n",
      "Epoch 056: Train_Loss: 125.773, Test_Loss: 149.178\n",
      "Epoch 057: Train_Loss: 125.596, Test_Loss: 149.062\n",
      "Epoch 058: Train_Loss: 125.444, Test_Loss: 148.936\n",
      "Epoch 059: Train_Loss: 125.281, Test_Loss: 148.815\n",
      "Epoch 060: Train_Loss: 125.107, Test_Loss: 148.743\n",
      "Epoch 061: Train_Loss: 124.941, Test_Loss: 148.639\n",
      "Epoch 062: Train_Loss: 124.769, Test_Loss: 148.566\n",
      "Epoch 063: Train_Loss: 124.612, Test_Loss: 148.466\n",
      "Epoch 064: Train_Loss: 124.467, Test_Loss: 148.370\n",
      "Epoch 065: Train_Loss: 124.311, Test_Loss: 148.249\n",
      "Epoch 066: Train_Loss: 124.155, Test_Loss: 148.180\n",
      "Epoch 067: Train_Loss: 123.999, Test_Loss: 148.105\n",
      "Epoch 068: Train_Loss: 123.848, Test_Loss: 148.020\n",
      "Epoch 069: Train_Loss: 123.688, Test_Loss: 147.922\n",
      "Epoch 070: Train_Loss: 123.535, Test_Loss: 147.837\n",
      "Epoch 071: Train_Loss: 123.382, Test_Loss: 147.742\n",
      "Epoch 072: Train_Loss: 123.233, Test_Loss: 147.673\n",
      "Epoch 073: Train_Loss: 123.089, Test_Loss: 147.560\n",
      "Epoch 074: Train_Loss: 122.919, Test_Loss: 147.424\n",
      "Epoch 075: Train_Loss: 122.768, Test_Loss: 147.311\n",
      "Epoch 076: Train_Loss: 122.610, Test_Loss: 147.240\n",
      "Epoch 077: Train_Loss: 122.469, Test_Loss: 147.123\n",
      "Epoch 078: Train_Loss: 122.335, Test_Loss: 147.018\n",
      "Epoch 079: Train_Loss: 122.189, Test_Loss: 146.905\n",
      "Epoch 080: Train_Loss: 122.013, Test_Loss: 146.814\n",
      "Epoch 081: Train_Loss: 121.862, Test_Loss: 146.701\n",
      "Epoch 082: Train_Loss: 121.710, Test_Loss: 146.613\n",
      "Epoch 083: Train_Loss: 121.567, Test_Loss: 146.522\n",
      "Epoch 084: Train_Loss: 121.416, Test_Loss: 146.424\n",
      "Epoch 085: Train_Loss: 121.276, Test_Loss: 146.349\n",
      "Epoch 086: Train_Loss: 121.134, Test_Loss: 146.220\n",
      "Epoch 087: Train_Loss: 120.983, Test_Loss: 146.139\n",
      "Epoch 088: Train_Loss: 120.845, Test_Loss: 146.053\n",
      "Epoch 089: Train_Loss: 120.688, Test_Loss: 145.952\n",
      "Epoch 090: Train_Loss: 120.536, Test_Loss: 145.900\n",
      "Epoch 091: Train_Loss: 120.380, Test_Loss: 145.812\n",
      "Epoch 092: Train_Loss: 120.235, Test_Loss: 145.726\n",
      "Epoch 093: Train_Loss: 120.096, Test_Loss: 145.620\n",
      "Epoch 094: Train_Loss: 119.958, Test_Loss: 145.518\n",
      "Epoch 095: Train_Loss: 119.826, Test_Loss: 145.427\n",
      "Epoch 096: Train_Loss: 119.683, Test_Loss: 145.292\n",
      "Epoch 097: Train_Loss: 119.558, Test_Loss: 145.172\n",
      "Epoch 098: Train_Loss: 119.430, Test_Loss: 145.072\n",
      "Epoch 099: Train_Loss: 119.277, Test_Loss: 144.982\n"
     ]
    }
   ],
   "source": [
    "\n",
    "epoch = 100\n",
    "net.load_weights('stage1_version2_BS32')\n",
    "train_loss_list = []\n",
    "test_loss_list = []\n",
    "prev_test_loss = test(net, test_dataset)\n",
    "print(prev_test_loss)\n",
    "for i in range(epoch):\n",
    "    total_loss = 0\n",
    "    counter = 0\n",
    "    for data in train_dataset:\n",
    "        example = tf.cast(data, tf.float32)\n",
    "        loss, grads = train_step(net, example, opt)\n",
    "        total_loss = (total_loss*counter + loss)/(counter + 1)\n",
    "        counter += 1\n",
    "        opt.apply_gradients(zip(grads, net.trainable_variables))\n",
    "        \n",
    "    test_loss = test(net, test_dataset)\n",
    "    print(\"Epoch {:03d}: Train_Loss: {:.3f}, Test_Loss: {:.3f}\".format(i, total_loss, test_loss))\n",
    "    train_loss_list.append(total_loss)\n",
    "    test_loss_list.append(test_loss)\n",
    "    if test_loss < prev_test_loss:\n",
    "        net.save_weights('stage1_version2_BS32')\n",
    "        prev_test_loss = test_loss\n",
    "    "
   ]
  },
  {
   "cell_type": "code",
   "execution_count": null,
   "metadata": {},
   "outputs": [],
   "source": []
  },
  {
   "cell_type": "code",
   "execution_count": 9,
   "metadata": {},
   "outputs": [
    {
     "name": "stdout",
     "output_type": "stream",
     "text": [
      "tf.Tensor(110.118835, shape=(), dtype=float32)\n",
      "(1, 4096, 64)\n",
      "[[0. 0. 0. ... 0. 0. 0.]\n",
      " [0. 0. 0. ... 0. 0. 0.]\n",
      " [0. 0. 0. ... 0. 0. 0.]\n",
      " ...\n",
      " [0. 0. 0. ... 0. 0. 0.]\n",
      " [0. 0. 0. ... 0. 0. 0.]\n",
      " [0. 0. 0. ... 0. 0. 0.]]\n"
     ]
    }
   ],
   "source": [
    "net.decoder.switchStage(1)\n",
    "net.load_weights('stage1_version2_BS32')\n",
    "prev_test_loss = test(net, test_dataset)\n",
    "print(prev_test_loss)\n",
    "em = tf.constant(test_data[11].reshape(1,64,64,1))\n",
    "ps, x2 = net(tf.cast(em,dtype=tf.float32))\n",
    "print(x2.shape)\n",
    "ps = (ps.numpy()).reshape(64,64)\n",
    "em = test_data[11].reshape(64,64)\n",
    "ps[ps>1]=1\n",
    "ps[ps<=0.01]=0\n",
    "print(ps)\n",
    "# ps[ps>=0.6] = 1\n",
    "# ps[ps<0.6] = 0"
   ]
  },
  {
   "cell_type": "code",
   "execution_count": 10,
   "metadata": {},
   "outputs": [
    {
     "data": {
      "text/plain": [
       "<matplotlib.image.AxesImage at 0x7fda3c08d690>"
      ]
     },
     "execution_count": 10,
     "metadata": {},
     "output_type": "execute_result"
    },
    {
     "data": {
      "image/png": "[encoded data removed]",
      "text/plain": [
       "<Figure size 432x288 with 1 Axes>"
      ]
     },
     "metadata": {
      "needs_background": "light"
     },
     "output_type": "display_data"
    }
   ],
   "source": [
    "plt.imshow(em)"
   ]
  },
  {
   "cell_type": "code",
   "execution_count": 11,
   "metadata": {},
   "outputs": [
    {
     "data": {
      "text/plain": [
       "<matplotlib.image.AxesImage at 0x7fda300a9950>"
      ]
     },
     "execution_count": 11,
     "metadata": {},
     "output_type": "execute_result"
    },
    {
     "data": {
      "image/png": "[encoded data removed]",
      "text/plain": [
       "<Figure size 432x288 with 1 Axes>"
      ]
     },
     "metadata": {
      "needs_background": "light"
     },
     "output_type": "display_data"
    }
   ],
   "source": [
    "plt.imshow(ps)"
   ]
  },
  {
   "cell_type": "code",
   "execution_count": 8,
   "metadata": {},
   "outputs": [
    {
     "data": {
      "text/plain": [
       "2"
      ]
     },
     "execution_count": 8,
     "metadata": {},
     "output_type": "execute_result"
    }
   ],
   "source": [
    "net.decoder.switchStage(2)\n",
    "net.decoder.stage"
   ]
  },
  {
   "cell_type": "code",
   "execution_count": 9,
   "metadata": {},
   "outputs": [
    {
     "data": {
      "text/plain": [
       "<tf.Variable 'Variable:0' shape=(256, 64) dtype=float32, numpy=\n",
       "array([[0., 0., 1., ..., 0., 0., 0.],\n",
       "       [0., 0., 1., ..., 0., 1., 0.],\n",
       "       [0., 0., 0., ..., 0., 0., 1.],\n",
       "       ...,\n",
       "       [0., 0., 0., ..., 0., 0., 1.],\n",
       "       [0., 0., 0., ..., 0., 0., 0.],\n",
       "       [0., 0., 0., ..., 1., 0., 0.]], dtype=float32)>"
      ]
     },
     "execution_count": 9,
     "metadata": {},
     "output_type": "execute_result"
    }
   ],
   "source": [
    "net.decoder.L2.weight"
   ]
  },
  {
   "cell_type": "code",
   "execution_count": 10,
   "metadata": {},
   "outputs": [],
   "source": [
    "def train_step_stage2(net, example, optimizer):\n",
    "\n",
    "    with tf.GradientTape() as tape:\n",
    "        output, M = net(example)\n",
    "        F = tf.reshape(example, [-1, 64*64, 1])\n",
    "        loss = stage2_loss(output, F,M) \n",
    "    return loss, tape.gradient(loss, net.trainable_variables)\n",
    "\n",
    "def test_stage2(net, test_ds):\n",
    "    total_loss = 0\n",
    "    counter = 0\n",
    "    for data in test_ds:\n",
    "        example = tf.cast(data, tf.float32)\n",
    "        F = tf.reshape(example, [-1, 64*64, 1])\n",
    "        output, M = net(example)\n",
    "        loss = stage2_loss(output, F,M) \n",
    "        total_loss = (total_loss*counter + loss)/(counter + 1)\n",
    "        counter += 1\n",
    "    return total_loss\n",
    "\n",
    "            \n"
   ]
  },
  {
   "cell_type": "code",
   "execution_count": 11,
   "metadata": {},
   "outputs": [],
   "source": [
    "opt = tf.keras.optimizers.Adam(0.001)"
   ]
  },
  {
   "cell_type": "code",
   "execution_count": 12,
   "metadata": {
    "scrolled": true
   },
   "outputs": [
    {
     "name": "stdout",
     "output_type": "stream",
     "text": [
      "tf.Tensor(12831.43, shape=(), dtype=float32)\n",
      "Epoch 000: Train_Loss: 1790.610, Test_Loss: 939.880\n",
      "model saved\n",
      "Epoch 001: Train_Loss: 989.951, Test_Loss: 964.504\n",
      "Epoch 002: Train_Loss: 957.741, Test_Loss: 899.658\n",
      "model saved\n",
      "Epoch 003: Train_Loss: 904.005, Test_Loss: 872.873\n",
      "model saved\n",
      "Epoch 004: Train_Loss: 857.626, Test_Loss: 851.916\n",
      "model saved\n",
      "Epoch 005: Train_Loss: 873.406, Test_Loss: 858.512\n",
      "Epoch 006: Train_Loss: 833.190, Test_Loss: 825.118\n",
      "model saved\n",
      "Epoch 007: Train_Loss: 825.347, Test_Loss: 822.666\n",
      "model saved\n",
      "Epoch 008: Train_Loss: 818.575, Test_Loss: 811.811\n",
      "model saved\n",
      "Epoch 009: Train_Loss: 799.387, Test_Loss: 782.775\n",
      "model saved\n",
      "Epoch 010: Train_Loss: 779.805, Test_Loss: 745.974\n",
      "model saved\n",
      "Epoch 011: Train_Loss: 718.057, Test_Loss: 711.312\n",
      "model saved\n",
      "Epoch 012: Train_Loss: 693.623, Test_Loss: 695.718\n",
      "model saved\n",
      "Epoch 013: Train_Loss: 671.571, Test_Loss: 638.328\n",
      "model saved\n",
      "Epoch 014: Train_Loss: 639.474, Test_Loss: 626.704\n",
      "model saved\n",
      "Epoch 015: Train_Loss: 621.707, Test_Loss: 616.546\n",
      "model saved\n",
      "Epoch 016: Train_Loss: 623.293, Test_Loss: 602.142\n",
      "model saved\n",
      "Epoch 017: Train_Loss: 594.956, Test_Loss: 583.351\n",
      "model saved\n",
      "Epoch 018: Train_Loss: 586.636, Test_Loss: 584.824\n",
      "Epoch 019: Train_Loss: 580.534, Test_Loss: 596.099\n",
      "Epoch 020: Train_Loss: 586.510, Test_Loss: 573.573\n",
      "model saved\n",
      "Epoch 021: Train_Loss: 593.464, Test_Loss: 575.999\n",
      "Epoch 022: Train_Loss: 576.076, Test_Loss: 569.658\n",
      "model saved\n",
      "Epoch 023: Train_Loss: 555.030, Test_Loss: 557.270\n",
      "model saved\n",
      "Epoch 024: Train_Loss: 560.482, Test_Loss: 554.342\n",
      "model saved\n",
      "Epoch 025: Train_Loss: 559.671, Test_Loss: 560.035\n",
      "Epoch 026: Train_Loss: 571.510, Test_Loss: 574.109\n",
      "Epoch 027: Train_Loss: 550.527, Test_Loss: 541.251\n",
      "model saved\n",
      "Epoch 028: Train_Loss: 543.061, Test_Loss: 541.899\n",
      "Epoch 029: Train_Loss: 546.152, Test_Loss: 548.805\n",
      "Epoch 030: Train_Loss: 533.973, Test_Loss: 529.008\n",
      "model saved\n",
      "Epoch 031: Train_Loss: 508.999, Test_Loss: 505.951\n",
      "model saved\n",
      "Epoch 032: Train_Loss: 507.507, Test_Loss: 523.501\n",
      "Epoch 033: Train_Loss: 506.317, Test_Loss: 503.682\n",
      "model saved\n",
      "Epoch 034: Train_Loss: 486.376, Test_Loss: 517.804\n",
      "Epoch 035: Train_Loss: 520.938, Test_Loss: 520.024\n",
      "Epoch 036: Train_Loss: 498.654, Test_Loss: 526.010\n",
      "Epoch 037: Train_Loss: 514.318, Test_Loss: 500.177\n",
      "model saved\n",
      "Epoch 038: Train_Loss: 517.560, Test_Loss: 559.722\n",
      "Epoch 039: Train_Loss: 510.137, Test_Loss: 523.096\n",
      "Epoch 040: Train_Loss: 480.711, Test_Loss: 511.717\n",
      "Epoch 041: Train_Loss: 494.815, Test_Loss: 502.881\n",
      "Epoch 042: Train_Loss: 479.788, Test_Loss: 482.946\n",
      "model saved\n",
      "Epoch 043: Train_Loss: 487.730, Test_Loss: 526.235\n",
      "Epoch 044: Train_Loss: 497.747, Test_Loss: 496.894\n",
      "Epoch 045: Train_Loss: 475.176, Test_Loss: 507.337\n",
      "Epoch 046: Train_Loss: 487.622, Test_Loss: 510.496\n",
      "Epoch 047: Train_Loss: 518.264, Test_Loss: 548.786\n",
      "Epoch 048: Train_Loss: 491.984, Test_Loss: 494.290\n",
      "Epoch 049: Train_Loss: 479.512, Test_Loss: 503.286\n",
      "Epoch 050: Train_Loss: 490.355, Test_Loss: 491.759\n",
      "Epoch 051: Train_Loss: 478.307, Test_Loss: 490.269\n",
      "Epoch 052: Train_Loss: 507.816, Test_Loss: 480.628\n",
      "model saved\n",
      "Epoch 053: Train_Loss: 465.766, Test_Loss: 466.812\n",
      "model saved\n",
      "Epoch 054: Train_Loss: 465.261, Test_Loss: 511.431\n",
      "Epoch 055: Train_Loss: 477.337, Test_Loss: 485.601\n",
      "Epoch 056: Train_Loss: 482.068, Test_Loss: 488.545\n",
      "Epoch 057: Train_Loss: 492.244, Test_Loss: 481.957\n",
      "Epoch 058: Train_Loss: 468.942, Test_Loss: 498.500\n",
      "Epoch 059: Train_Loss: 486.176, Test_Loss: 501.027\n",
      "Epoch 060: Train_Loss: 497.064, Test_Loss: 510.327\n",
      "Epoch 061: Train_Loss: 483.949, Test_Loss: 507.170\n",
      "Epoch 062: Train_Loss: 471.739, Test_Loss: 491.859\n",
      "Epoch 063: Train_Loss: 458.697, Test_Loss: 488.744\n",
      "Epoch 064: Train_Loss: 464.671, Test_Loss: 480.902\n",
      "Epoch 065: Train_Loss: 474.083, Test_Loss: 482.615\n",
      "Epoch 066: Train_Loss: 455.879, Test_Loss: 478.883\n",
      "Epoch 067: Train_Loss: 477.994, Test_Loss: 511.606\n",
      "Epoch 068: Train_Loss: 485.187, Test_Loss: 486.797\n",
      "Epoch 069: Train_Loss: 467.292, Test_Loss: 512.134\n",
      "Epoch 070: Train_Loss: 479.422, Test_Loss: 508.909\n",
      "Epoch 071: Train_Loss: 484.951, Test_Loss: 495.639\n",
      "Epoch 072: Train_Loss: 483.854, Test_Loss: 492.647\n",
      "Epoch 073: Train_Loss: 479.826, Test_Loss: 466.835\n",
      "Epoch 074: Train_Loss: 483.809, Test_Loss: 463.964\n",
      "model saved\n",
      "Epoch 075: Train_Loss: 478.699, Test_Loss: 491.527\n",
      "Epoch 076: Train_Loss: 484.550, Test_Loss: 495.194\n",
      "Epoch 077: Train_Loss: 478.905, Test_Loss: 499.431\n",
      "Epoch 078: Train_Loss: 468.093, Test_Loss: 493.460\n",
      "Epoch 079: Train_Loss: 471.532, Test_Loss: 518.808\n",
      "Epoch 080: Train_Loss: 479.017, Test_Loss: 521.780\n",
      "Epoch 081: Train_Loss: 494.545, Test_Loss: 519.703\n",
      "Epoch 082: Train_Loss: 478.142, Test_Loss: 490.228\n",
      "Epoch 083: Train_Loss: 471.865, Test_Loss: 553.295\n",
      "Epoch 084: Train_Loss: 469.001, Test_Loss: 488.851\n",
      "Epoch 085: Train_Loss: 456.655, Test_Loss: 498.104\n",
      "Epoch 086: Train_Loss: 461.778, Test_Loss: 521.485\n",
      "Epoch 087: Train_Loss: 481.245, Test_Loss: 517.346\n",
      "Epoch 088: Train_Loss: 468.495, Test_Loss: 492.468\n",
      "Epoch 089: Train_Loss: 465.809, Test_Loss: 512.736\n",
      "Epoch 090: Train_Loss: 462.032, Test_Loss: 487.806\n",
      "Epoch 091: Train_Loss: 462.809, Test_Loss: 474.302\n",
      "Epoch 092: Train_Loss: 461.286, Test_Loss: 490.071\n",
      "Epoch 093: Train_Loss: 475.908, Test_Loss: 472.759\n",
      "Epoch 094: Train_Loss: 484.941, Test_Loss: 493.625\n",
      "Epoch 095: Train_Loss: 469.583, Test_Loss: 495.970\n",
      "Epoch 096: Train_Loss: 477.490, Test_Loss: 486.345\n",
      "Epoch 097: Train_Loss: 476.257, Test_Loss: 503.384\n",
      "Epoch 098: Train_Loss: 463.044, Test_Loss: 479.556\n",
      "Epoch 099: Train_Loss: 437.959, Test_Loss: 457.790\n",
      "model saved\n",
      "Epoch 100: Train_Loss: 441.639, Test_Loss: 466.446\n",
      "Epoch 101: Train_Loss: 465.243, Test_Loss: 510.985\n",
      "Epoch 102: Train_Loss: 475.567, Test_Loss: 478.002\n",
      "Epoch 103: Train_Loss: 479.298, Test_Loss: 467.595\n",
      "Epoch 104: Train_Loss: 478.728, Test_Loss: 460.072\n",
      "Epoch 105: Train_Loss: 454.418, Test_Loss: 464.165\n",
      "Epoch 106: Train_Loss: 437.950, Test_Loss: 466.337\n",
      "Epoch 107: Train_Loss: 448.386, Test_Loss: 491.744\n",
      "Epoch 108: Train_Loss: 486.172, Test_Loss: 487.314\n",
      "Epoch 109: Train_Loss: 477.959, Test_Loss: 481.583\n",
      "Epoch 110: Train_Loss: 481.779, Test_Loss: 493.129\n",
      "Epoch 111: Train_Loss: 466.779, Test_Loss: 484.569\n",
      "Epoch 112: Train_Loss: 480.794, Test_Loss: 491.916\n",
      "Epoch 113: Train_Loss: 482.563, Test_Loss: 479.199\n",
      "Epoch 114: Train_Loss: 480.125, Test_Loss: 499.805\n",
      "Epoch 115: Train_Loss: 479.306, Test_Loss: 493.855\n",
      "Epoch 116: Train_Loss: 452.819, Test_Loss: 472.110\n",
      "Epoch 117: Train_Loss: 434.021, Test_Loss: 475.092\n",
      "Epoch 118: Train_Loss: 445.781, Test_Loss: 467.400\n",
      "Epoch 119: Train_Loss: 475.149, Test_Loss: 500.852\n",
      "Epoch 120: Train_Loss: 481.986, Test_Loss: 494.703\n",
      "Epoch 121: Train_Loss: 485.054, Test_Loss: 503.289\n",
      "Epoch 122: Train_Loss: 502.965, Test_Loss: 499.000\n",
      "Epoch 123: Train_Loss: 520.613, Test_Loss: 466.645\n",
      "Epoch 124: Train_Loss: 435.162, Test_Loss: 449.343\n",
      "model saved\n",
      "Epoch 125: Train_Loss: 425.464, Test_Loss: 478.655\n",
      "Epoch 126: Train_Loss: 431.553, Test_Loss: 454.230\n",
      "Epoch 127: Train_Loss: 428.879, Test_Loss: 462.506\n",
      "Epoch 128: Train_Loss: 434.939, Test_Loss: 465.963\n",
      "Epoch 129: Train_Loss: 470.011, Test_Loss: 491.213\n",
      "Epoch 130: Train_Loss: 467.240, Test_Loss: 463.680\n",
      "Epoch 131: Train_Loss: 459.672, Test_Loss: 475.267\n",
      "Epoch 132: Train_Loss: 469.078, Test_Loss: 500.964\n",
      "Epoch 133: Train_Loss: 476.302, Test_Loss: 477.851\n",
      "Epoch 134: Train_Loss: 473.213, Test_Loss: 477.247\n",
      "Epoch 135: Train_Loss: 470.723, Test_Loss: 490.531\n",
      "Epoch 136: Train_Loss: 469.322, Test_Loss: 483.832\n",
      "Epoch 137: Train_Loss: 459.435, Test_Loss: 496.513\n",
      "Epoch 138: Train_Loss: 461.581, Test_Loss: 500.411\n",
      "Epoch 139: Train_Loss: 449.650, Test_Loss: 469.128\n",
      "Epoch 140: Train_Loss: 457.770, Test_Loss: 504.815\n",
      "Epoch 141: Train_Loss: 446.360, Test_Loss: 495.531\n",
      "Epoch 142: Train_Loss: 440.975, Test_Loss: 495.013\n",
      "Epoch 143: Train_Loss: 446.751, Test_Loss: 531.526\n",
      "Epoch 144: Train_Loss: 461.055, Test_Loss: 534.688\n",
      "Epoch 145: Train_Loss: 460.487, Test_Loss: 538.818\n",
      "Epoch 146: Train_Loss: 461.349, Test_Loss: 534.548\n",
      "Epoch 147: Train_Loss: 475.984, Test_Loss: 500.115\n",
      "Epoch 148: Train_Loss: 445.900, Test_Loss: 513.243\n",
      "Epoch 149: Train_Loss: 447.199, Test_Loss: 514.490\n",
      "Epoch 150: Train_Loss: 471.598, Test_Loss: 547.584\n",
      "Epoch 151: Train_Loss: 466.020, Test_Loss: 504.934\n",
      "Epoch 152: Train_Loss: 485.740, Test_Loss: 506.687\n"
     ]
    },
    {
     "name": "stdout",
     "output_type": "stream",
     "text": [
      "Epoch 153: Train_Loss: 491.476, Test_Loss: 496.355\n",
      "Epoch 154: Train_Loss: 484.159, Test_Loss: 503.503\n",
      "Epoch 155: Train_Loss: 458.412, Test_Loss: 484.708\n",
      "Epoch 156: Train_Loss: 464.111, Test_Loss: 493.716\n",
      "Epoch 157: Train_Loss: 488.433, Test_Loss: 487.441\n",
      "Epoch 158: Train_Loss: 490.813, Test_Loss: 504.304\n",
      "Epoch 159: Train_Loss: 484.319, Test_Loss: 507.532\n",
      "Epoch 160: Train_Loss: 466.636, Test_Loss: 491.391\n",
      "Epoch 161: Train_Loss: 449.616, Test_Loss: 471.371\n",
      "Epoch 162: Train_Loss: 438.092, Test_Loss: 475.807\n",
      "Epoch 163: Train_Loss: 432.942, Test_Loss: 470.930\n",
      "Epoch 164: Train_Loss: 436.814, Test_Loss: 470.422\n",
      "Epoch 165: Train_Loss: 435.796, Test_Loss: 485.842\n",
      "Epoch 166: Train_Loss: 449.385, Test_Loss: 504.102\n",
      "Epoch 167: Train_Loss: 470.344, Test_Loss: 501.983\n",
      "Epoch 168: Train_Loss: 463.042, Test_Loss: 478.325\n",
      "Epoch 169: Train_Loss: 460.229, Test_Loss: 495.498\n",
      "Epoch 170: Train_Loss: 460.704, Test_Loss: 512.636\n",
      "Epoch 171: Train_Loss: 457.133, Test_Loss: 505.849\n",
      "Epoch 172: Train_Loss: 461.208, Test_Loss: 497.335\n",
      "Epoch 173: Train_Loss: 461.123, Test_Loss: 537.124\n",
      "Epoch 174: Train_Loss: 477.472, Test_Loss: 537.198\n",
      "Epoch 175: Train_Loss: 468.596, Test_Loss: 535.674\n",
      "Epoch 176: Train_Loss: 473.359, Test_Loss: 514.353\n",
      "Epoch 177: Train_Loss: 471.620, Test_Loss: 506.992\n",
      "Epoch 178: Train_Loss: 479.874, Test_Loss: 527.891\n",
      "Epoch 179: Train_Loss: 477.151, Test_Loss: 528.856\n",
      "Epoch 180: Train_Loss: 480.753, Test_Loss: 507.921\n",
      "Epoch 181: Train_Loss: 467.709, Test_Loss: 503.567\n",
      "Epoch 182: Train_Loss: 457.541, Test_Loss: 479.763\n",
      "Epoch 183: Train_Loss: 455.617, Test_Loss: 472.950\n",
      "Epoch 184: Train_Loss: 453.935, Test_Loss: 460.978\n",
      "Epoch 185: Train_Loss: 454.449, Test_Loss: 494.469\n",
      "Epoch 186: Train_Loss: 454.463, Test_Loss: 522.401\n",
      "Epoch 187: Train_Loss: 448.434, Test_Loss: 538.592\n",
      "Epoch 188: Train_Loss: 449.590, Test_Loss: 533.070\n",
      "Epoch 189: Train_Loss: 457.155, Test_Loss: 541.707\n",
      "Epoch 190: Train_Loss: 463.706, Test_Loss: 515.916\n",
      "Epoch 191: Train_Loss: 462.608, Test_Loss: 492.664\n",
      "Epoch 192: Train_Loss: 443.425, Test_Loss: 475.189\n",
      "Epoch 193: Train_Loss: 454.869, Test_Loss: 465.359\n",
      "Epoch 194: Train_Loss: 461.244, Test_Loss: 455.098\n",
      "Epoch 195: Train_Loss: 451.801, Test_Loss: 458.191\n",
      "Epoch 196: Train_Loss: 467.697, Test_Loss: 456.283\n",
      "Epoch 197: Train_Loss: 453.672, Test_Loss: 459.218\n",
      "Epoch 198: Train_Loss: 456.424, Test_Loss: 471.805\n",
      "Epoch 199: Train_Loss: 453.134, Test_Loss: 473.809\n"
     ]
    }
   ],
   "source": [
    "\n",
    "        \n",
    "epoch = 200\n",
    "net.load_weights('stage2_version0_BS32')\n",
    "train_loss_list = []\n",
    "test_loss_list = []\n",
    "prev_test_loss = test_stage2(net, test_dataset)\n",
    "print(prev_test_loss)\n",
    "for i in range(epoch):\n",
    "    total_loss = 0\n",
    "    counter = 0\n",
    "    for data in train_dataset:\n",
    "        example = tf.cast(data, tf.float32)\n",
    "        loss, grads = train_step_stage2(net, example, opt)\n",
    "        total_loss = (total_loss*counter + loss)/(counter + 1)\n",
    "        counter += 1\n",
    "        opt.apply_gradients(zip(grads, net.trainable_variables))\n",
    "        \n",
    "    test_loss = test_stage2(net, test_dataset)\n",
    "    print(\"Epoch {:03d}: Train_Loss: {:.3f}, Test_Loss: {:.3f}\".format(i, total_loss, test_loss))\n",
    "    train_loss_list.append(total_loss)\n",
    "    test_loss_list.append(test_loss)\n",
    "    if test_loss < prev_test_loss:\n",
    "        net.save_weights('stage2_version0_BS32')\n",
    "        print(\"model saved\")\n",
    "        prev_test_loss = test_loss\n",
    "    "
   ]
  },
  {
   "cell_type": "code",
   "execution_count": 20,
   "metadata": {},
   "outputs": [
    {
     "name": "stdout",
     "output_type": "stream",
     "text": [
      "tf.Tensor(0.0, shape=(), dtype=float32)\n",
      "1.0000001\n",
      "tf.Tensor(\n",
      "[[[0.]\n",
      "  [0.]\n",
      "  [0.]\n",
      "  ...\n",
      "  [0.]\n",
      "  [0.]\n",
      "  [0.]]], shape=(1, 4096, 1), dtype=float32)\n"
     ]
    }
   ],
   "source": [
    "net.decoder.switchStage(2)\n",
    "net.load_weights('stage2_version0_BS32')\n",
    "prev_test_loss = test_stage2(net, test_dataset)\n",
    "print(prev_test_loss)\n",
    "em = tf.constant(test_data[11].reshape(1,64,64,1))\n",
    "\n",
    "ps, x2 = net(tf.cast(em,dtype=tf.float32))\n",
    "print(net.decoder.L3.weight.numpy().max())\n",
    "ps = (ps.numpy()).reshape(64,64)\n",
    "em = test_data[11].reshape(64,64)\n",
    "print(x2)\n",
    "# ps[ps>0]=1\n",
    "# ps[ps<=0]=0\n",
    "# ps[ps>=0.6] = 1\n",
    "# ps[ps<0.6] = 0"
   ]
  },
  {
   "cell_type": "code",
   "execution_count": 21,
   "metadata": {},
   "outputs": [
    {
     "data": {
      "text/plain": [
       "<matplotlib.image.AxesImage at 0x7f36e80c7850>"
      ]
     },
     "execution_count": 21,
     "metadata": {},
     "output_type": "execute_result"
    },
    {
     "name": "stderr",
     "output_type": "stream",
     "text": [
      "/home/lizhe/anaconda3/lib/python3.7/site-packages/matplotlib/image.py:397: UserWarning: Warning: converting a masked element to nan.\n",
      "  dv = (np.float64(self.norm.vmax) -\n",
      "/home/lizhe/anaconda3/lib/python3.7/site-packages/matplotlib/image.py:398: UserWarning: Warning: converting a masked element to nan.\n",
      "  np.float64(self.norm.vmin))\n",
      "/home/lizhe/anaconda3/lib/python3.7/site-packages/matplotlib/image.py:405: UserWarning: Warning: converting a masked element to nan.\n",
      "  a_min = np.float64(newmin)\n",
      "/home/lizhe/anaconda3/lib/python3.7/site-packages/matplotlib/image.py:410: UserWarning: Warning: converting a masked element to nan.\n",
      "  a_max = np.float64(newmax)\n",
      "<string>:6: UserWarning: Warning: converting a masked element to nan.\n",
      "/home/lizhe/anaconda3/lib/python3.7/site-packages/numpy/ma/core.py:722: UserWarning: Warning: converting a masked element to nan.\n",
      "  data = np.array(a, copy=False, subok=subok)\n"
     ]
    },
    {
     "data": {
      "image/png": "[encoded data removed]",
      "text/plain": [
       "<Figure size 432x288 with 1 Axes>"
      ]
     },
     "metadata": {
      "needs_background": "light"
     },
     "output_type": "display_data"
    }
   ],
   "source": [
    "plt.imshow(ps)"
   ]
  },
  {
   "cell_type": "code",
   "execution_count": 22,
   "metadata": {},
   "outputs": [
    {
     "data": {
      "text/plain": [
       "<tf.Variable 'Variable:0' shape=(256, 64) dtype=float32, numpy=\n",
       "array([[nan, nan, nan, ..., nan, nan, nan],\n",
       "       [nan, nan, nan, ..., nan, nan, nan],\n",
       "       [nan, nan, nan, ..., nan, nan, nan],\n",
       "       ...,\n",
       "       [nan, nan, nan, ..., nan, nan, nan],\n",
       "       [nan, nan, nan, ..., nan, nan, nan],\n",
       "       [nan, nan, nan, ..., nan, nan, nan]], dtype=float32)>"
      ]
     },
     "execution_count": 22,
     "metadata": {},
     "output_type": "execute_result"
    }
   ],
   "source": [
    "net.decoder.L2.weight"
   ]
  },
  {
   "cell_type": "code",
   "execution_count": null,
   "metadata": {},
   "outputs": [],
   "source": []
  }
 ],
 "metadata": {
  "kernelspec": {
   "display_name": "Python 3",
   "language": "python",
   "name": "python3"
  },
  "language_info": {
   "codemirror_mode": {
    "name": "ipython",
    "version": 3
   },
   "file_extension": ".py",
   "mimetype": "text/x-python",
   "name": "python",
   "nbconvert_exporter": "python",
   "pygments_lexer": "ipython3",
   "version": "3.7.6"
  }
 },
 "nbformat": 4,
 "nbformat_minor": 4
}
